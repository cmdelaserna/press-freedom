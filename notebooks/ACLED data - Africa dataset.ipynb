{
 "cells": [
  {
   "cell_type": "code",
   "execution_count": null,
   "metadata": {},
   "outputs": [],
   "source": [
    "'''\n",
    "Pending:\n",
    "- Try k-clustering\n",
    "'''"
   ]
  },
  {
   "cell_type": "markdown",
   "metadata": {},
   "source": [
    "# Exploring ACLED data\n",
    "- Import excel file, add date column and export it as json\n",
    "- Use json file for all future work\n",
    "- Data formatting: column names. \n",
    "- Encode event_type and sub_event_type\n",
    "- Aggregate by month\n",
    "- Function to get a dataset for a specific country"
   ]
  },
  {
   "cell_type": "code",
   "execution_count": 1,
   "metadata": {},
   "outputs": [],
   "source": [
    "# African dataset\n",
    "# https://www.acleddata.com/curated-data-files/"
   ]
  },
  {
   "cell_type": "code",
   "execution_count": 2,
   "metadata": {},
   "outputs": [],
   "source": [
    "import pandas as pd\n",
    "from datetime import datetime\n",
    "import matplotlib.pyplot as plt\n",
    "import seaborn as sns\n",
    "import numpy as np\n",
    "from sklearn.preprocessing import OneHotEncoder\n",
    "from sklearn.preprocessing import LabelEncoder"
   ]
  },
  {
   "cell_type": "markdown",
   "metadata": {},
   "source": [
    "## Exporting excel file as json"
   ]
  },
  {
   "cell_type": "code",
   "execution_count": 3,
   "metadata": {},
   "outputs": [],
   "source": [
    "# # import excel file\n",
    "# df = pd.read_excel('../data/Africa_1997-2019_Oct12-1.xlsx')"
   ]
  },
  {
   "cell_type": "code",
   "execution_count": 4,
   "metadata": {},
   "outputs": [],
   "source": [
    "# # New column for date\n",
    "# df['date'] = pd.to_datetime(df['EVENT_DATE']).dt.date"
   ]
  },
  {
   "cell_type": "code",
   "execution_count": 5,
   "metadata": {},
   "outputs": [],
   "source": [
    "# # export dataframe as json\n",
    "# df.to_json('../data/africa-data.json')"
   ]
  },
  {
   "cell_type": "markdown",
   "metadata": {},
   "source": [
    "## Importing data"
   ]
  },
  {
   "cell_type": "code",
   "execution_count": 6,
   "metadata": {},
   "outputs": [],
   "source": [
    "df = pd.read_json('../data/africa-data.json')"
   ]
  },
  {
   "cell_type": "code",
   "execution_count": 7,
   "metadata": {},
   "outputs": [
    {
     "data": {
      "text/plain": [
       "(193565, 30)"
      ]
     },
     "execution_count": 7,
     "metadata": {},
     "output_type": "execute_result"
    }
   ],
   "source": [
    "df.shape"
   ]
  },
  {
   "cell_type": "code",
   "execution_count": 8,
   "metadata": {},
   "outputs": [
    {
     "data": {
      "text/html": [
       "<div>\n",
       "<style scoped>\n",
       "    .dataframe tbody tr th:only-of-type {\n",
       "        vertical-align: middle;\n",
       "    }\n",
       "\n",
       "    .dataframe tbody tr th {\n",
       "        vertical-align: top;\n",
       "    }\n",
       "\n",
       "    .dataframe thead th {\n",
       "        text-align: right;\n",
       "    }\n",
       "</style>\n",
       "<table border=\"1\" class=\"dataframe\">\n",
       "  <thead>\n",
       "    <tr style=\"text-align: right;\">\n",
       "      <th></th>\n",
       "      <th>ISO</th>\n",
       "      <th>EVENT_ID_CNTY</th>\n",
       "      <th>EVENT_ID_NO_CNTY</th>\n",
       "      <th>EVENT_DATE</th>\n",
       "      <th>YEAR</th>\n",
       "      <th>TIME_PRECISION</th>\n",
       "      <th>EVENT_TYPE</th>\n",
       "      <th>SUB_EVENT_TYPE</th>\n",
       "      <th>ACTOR1</th>\n",
       "      <th>ASSOC_ACTOR_1</th>\n",
       "      <th>...</th>\n",
       "      <th>LOCATION</th>\n",
       "      <th>LATITUDE</th>\n",
       "      <th>LONGITUDE</th>\n",
       "      <th>GEO_PRECISION</th>\n",
       "      <th>SOURCE</th>\n",
       "      <th>SOURCE_SCALE</th>\n",
       "      <th>NOTES</th>\n",
       "      <th>FATALITIES</th>\n",
       "      <th>TIMESTAMP</th>\n",
       "      <th>date</th>\n",
       "    </tr>\n",
       "  </thead>\n",
       "  <tbody>\n",
       "    <tr>\n",
       "      <th>0</th>\n",
       "      <td>12</td>\n",
       "      <td>ALG1</td>\n",
       "      <td>1</td>\n",
       "      <td>852076800000</td>\n",
       "      <td>1997</td>\n",
       "      <td>1</td>\n",
       "      <td>Violence against civilians</td>\n",
       "      <td>Attack</td>\n",
       "      <td>GIA: Armed Islamic Group</td>\n",
       "      <td>None</td>\n",
       "      <td>...</td>\n",
       "      <td>Douaouda</td>\n",
       "      <td>36.672</td>\n",
       "      <td>2.789</td>\n",
       "      <td>1</td>\n",
       "      <td>Algeria Watch</td>\n",
       "      <td>Other</td>\n",
       "      <td>5 January: Beheading of 5 citizens in Douaouda...</td>\n",
       "      <td>5</td>\n",
       "      <td>2019-09-02 22:08:55</td>\n",
       "      <td>1997-01-01</td>\n",
       "    </tr>\n",
       "    <tr>\n",
       "      <th>1</th>\n",
       "      <td>12</td>\n",
       "      <td>ALG2</td>\n",
       "      <td>2</td>\n",
       "      <td>852163200000</td>\n",
       "      <td>1997</td>\n",
       "      <td>1</td>\n",
       "      <td>Violence against civilians</td>\n",
       "      <td>Attack</td>\n",
       "      <td>GIA: Armed Islamic Group</td>\n",
       "      <td>None</td>\n",
       "      <td>...</td>\n",
       "      <td>Hassasna</td>\n",
       "      <td>36.133</td>\n",
       "      <td>0.883</td>\n",
       "      <td>1</td>\n",
       "      <td>Algeria Watch</td>\n",
       "      <td>Other</td>\n",
       "      <td>Two citizens were beheaded in Hassasna.</td>\n",
       "      <td>2</td>\n",
       "      <td>2019-09-02 22:08:55</td>\n",
       "      <td>1997-01-02</td>\n",
       "    </tr>\n",
       "    <tr>\n",
       "      <th>10</th>\n",
       "      <td>12</td>\n",
       "      <td>ALG9</td>\n",
       "      <td>9</td>\n",
       "      <td>852595200000</td>\n",
       "      <td>1997</td>\n",
       "      <td>1</td>\n",
       "      <td>Explosions/Remote violence</td>\n",
       "      <td>Remote explosive/landmine/IED</td>\n",
       "      <td>GIA: Armed Islamic Group</td>\n",
       "      <td>None</td>\n",
       "      <td>...</td>\n",
       "      <td>Algiers</td>\n",
       "      <td>36.752</td>\n",
       "      <td>3.042</td>\n",
       "      <td>1</td>\n",
       "      <td>Algeria Watch</td>\n",
       "      <td>Other</td>\n",
       "      <td>7 January: Explosion of a bomb in the Didouche...</td>\n",
       "      <td>20</td>\n",
       "      <td>2019-09-02 22:08:55</td>\n",
       "      <td>1997-01-07</td>\n",
       "    </tr>\n",
       "    <tr>\n",
       "      <th>100</th>\n",
       "      <td>12</td>\n",
       "      <td>ALG101</td>\n",
       "      <td>101</td>\n",
       "      <td>872812800000</td>\n",
       "      <td>1997</td>\n",
       "      <td>1</td>\n",
       "      <td>Explosions/Remote violence</td>\n",
       "      <td>Remote explosive/landmine/IED</td>\n",
       "      <td>GIA: Armed Islamic Group</td>\n",
       "      <td>None</td>\n",
       "      <td>...</td>\n",
       "      <td>Casbah</td>\n",
       "      <td>36.785</td>\n",
       "      <td>3.059</td>\n",
       "      <td>1</td>\n",
       "      <td>Algeria Watch</td>\n",
       "      <td>Other</td>\n",
       "      <td>29 August: Bomb explosion in the working-class...</td>\n",
       "      <td>13</td>\n",
       "      <td>2019-09-02 22:08:55</td>\n",
       "      <td>1997-08-29</td>\n",
       "    </tr>\n",
       "    <tr>\n",
       "      <th>1000</th>\n",
       "      <td>12</td>\n",
       "      <td>ALG1005</td>\n",
       "      <td>1005</td>\n",
       "      <td>1047081600000</td>\n",
       "      <td>2003</td>\n",
       "      <td>1</td>\n",
       "      <td>Violence against civilians</td>\n",
       "      <td>Abduction/forced disappearance</td>\n",
       "      <td>GSPC: Salafist Group for Call and Combat</td>\n",
       "      <td>None</td>\n",
       "      <td>...</td>\n",
       "      <td>Tamanrasset</td>\n",
       "      <td>22.785</td>\n",
       "      <td>5.523</td>\n",
       "      <td>3</td>\n",
       "      <td>AFP</td>\n",
       "      <td>International</td>\n",
       "      <td>March 8: Four German tourists disappear in cen...</td>\n",
       "      <td>0</td>\n",
       "      <td>2019-06-25 13:22:37</td>\n",
       "      <td>2003-03-08</td>\n",
       "    </tr>\n",
       "  </tbody>\n",
       "</table>\n",
       "<p>5 rows × 30 columns</p>\n",
       "</div>"
      ],
      "text/plain": [
       "      ISO EVENT_ID_CNTY  EVENT_ID_NO_CNTY     EVENT_DATE  YEAR  \\\n",
       "0      12          ALG1                 1   852076800000  1997   \n",
       "1      12          ALG2                 2   852163200000  1997   \n",
       "10     12          ALG9                 9   852595200000  1997   \n",
       "100    12        ALG101               101   872812800000  1997   \n",
       "1000   12       ALG1005              1005  1047081600000  2003   \n",
       "\n",
       "      TIME_PRECISION                  EVENT_TYPE  \\\n",
       "0                  1  Violence against civilians   \n",
       "1                  1  Violence against civilians   \n",
       "10                 1  Explosions/Remote violence   \n",
       "100                1  Explosions/Remote violence   \n",
       "1000               1  Violence against civilians   \n",
       "\n",
       "                      SUB_EVENT_TYPE  \\\n",
       "0                             Attack   \n",
       "1                             Attack   \n",
       "10     Remote explosive/landmine/IED   \n",
       "100    Remote explosive/landmine/IED   \n",
       "1000  Abduction/forced disappearance   \n",
       "\n",
       "                                        ACTOR1 ASSOC_ACTOR_1  ...  \\\n",
       "0                     GIA: Armed Islamic Group          None  ...   \n",
       "1                     GIA: Armed Islamic Group          None  ...   \n",
       "10                    GIA: Armed Islamic Group          None  ...   \n",
       "100                   GIA: Armed Islamic Group          None  ...   \n",
       "1000  GSPC: Salafist Group for Call and Combat          None  ...   \n",
       "\n",
       "         LOCATION LATITUDE LONGITUDE  GEO_PRECISION         SOURCE  \\\n",
       "0        Douaouda   36.672     2.789              1  Algeria Watch   \n",
       "1        Hassasna   36.133     0.883              1  Algeria Watch   \n",
       "10        Algiers   36.752     3.042              1  Algeria Watch   \n",
       "100        Casbah   36.785     3.059              1  Algeria Watch   \n",
       "1000  Tamanrasset   22.785     5.523              3            AFP   \n",
       "\n",
       "       SOURCE_SCALE                                              NOTES  \\\n",
       "0             Other  5 January: Beheading of 5 citizens in Douaouda...   \n",
       "1             Other            Two citizens were beheaded in Hassasna.   \n",
       "10            Other  7 January: Explosion of a bomb in the Didouche...   \n",
       "100           Other  29 August: Bomb explosion in the working-class...   \n",
       "1000  International  March 8: Four German tourists disappear in cen...   \n",
       "\n",
       "     FATALITIES           TIMESTAMP       date  \n",
       "0             5 2019-09-02 22:08:55 1997-01-01  \n",
       "1             2 2019-09-02 22:08:55 1997-01-02  \n",
       "10           20 2019-09-02 22:08:55 1997-01-07  \n",
       "100          13 2019-09-02 22:08:55 1997-08-29  \n",
       "1000          0 2019-06-25 13:22:37 2003-03-08  \n",
       "\n",
       "[5 rows x 30 columns]"
      ]
     },
     "execution_count": 8,
     "metadata": {},
     "output_type": "execute_result"
    }
   ],
   "source": [
    "df.head()"
   ]
  },
  {
   "cell_type": "markdown",
   "metadata": {},
   "source": [
    "## Data formatting\n",
    "- Rename columns\n",
    "- Encode values\n",
    "- Define classification according to event/fatalities?"
   ]
  },
  {
   "cell_type": "code",
   "execution_count": 9,
   "metadata": {},
   "outputs": [
    {
     "name": "stdout",
     "output_type": "stream",
     "text": [
      "Index(['year', 'event_type', 'sub_event_type', 'actor', 'region', 'country',\n",
      "       'source', 'fatalities', 'date'],\n",
      "      dtype='object')\n",
      "(193565, 9)\n"
     ]
    }
   ],
   "source": [
    "# Rename and remove columns\n",
    "columns = ['YEAR', 'EVENT_TYPE', 'SUB_EVENT_TYPE', 'ACTOR1', 'REGION', 'COUNTRY', 'SOURCE', 'FATALITIES', 'date']\n",
    "try:\n",
    "    df = df[columns]\n",
    "    df.columns = ['year', 'event_type', 'sub_event_type', 'actor', 'region', 'country', 'source', 'fatalities', 'date']\n",
    "except KeyError as e:\n",
    "    print(e)\n",
    "    pass\n",
    "\n",
    "print(df.columns)\n",
    "print(df.shape)"
   ]
  },
  {
   "cell_type": "code",
   "execution_count": 10,
   "metadata": {},
   "outputs": [],
   "source": [
    "# Encode event_types and sub_event_types\n",
    "# https://www.datacamp.com/community/tutorials/categorical-data"
   ]
  },
  {
   "cell_type": "code",
   "execution_count": 11,
   "metadata": {},
   "outputs": [
    {
     "name": "stdout",
     "output_type": "stream",
     "text": [
      "**Categorical values**\n",
      "\n",
      "6 event types:\n",
      " ['Violence against civilians' 'Explosions/Remote violence'\n",
      " 'Strategic developments' 'Battles' 'Protests' 'Riots']\n",
      "\n",
      "25 sub_event types:\n",
      " ['Attack' 'Remote explosive/landmine/IED' 'Abduction/forced disappearance'\n",
      " 'Non-violent transfer of territory' 'Armed clash'\n",
      " 'Looting/property destruction' 'Headquarters or base established'\n",
      " 'Peaceful protest' 'Non-state actor overtakes territory'\n",
      " 'Government regains territory' 'Protest with intervention'\n",
      " 'Change to group/activity' 'Mob violence' 'Violent demonstration'\n",
      " 'Sexual violence' 'Arrests' 'Air/drone strike'\n",
      " 'Shelling/artillery/missile attack' 'Disrupted weapons use'\n",
      " 'Excessive force against protesters' 'Agreement' 'Other' 'Grenade'\n",
      " 'Suicide bomb' 'Chemical weapon']\n",
      "\n",
      "4065 actors:\n",
      " ['GIA: Armed Islamic Group' 'GSPC: Salafist Group for Call and Combat'\n",
      " 'Unidentified Armed Group (Angola)' ...\n",
      " 'AFRC: Armed Forces Revolutionary Council (Advance Teams)'\n",
      " 'Kakula Militia' 'Militia (Superman Faction)']\n",
      "\n"
     ]
    }
   ],
   "source": [
    "print('**Categorical values**\\n')\n",
    "print('{} event types:\\n {}\\n'.format(df.event_type.nunique(), df.event_type.unique()))\n",
    "print('{} sub_event types:\\n {}\\n'.format(df.sub_event_type.nunique(), df.sub_event_type.unique()))\n",
    "print('{} actors:\\n {}\\n'.format(df.actor.nunique(), df.actor.unique()))"
   ]
  },
  {
   "cell_type": "code",
   "execution_count": 12,
   "metadata": {},
   "outputs": [
    {
     "data": {
      "text/html": [
       "<div>\n",
       "<style scoped>\n",
       "    .dataframe tbody tr th:only-of-type {\n",
       "        vertical-align: middle;\n",
       "    }\n",
       "\n",
       "    .dataframe tbody tr th {\n",
       "        vertical-align: top;\n",
       "    }\n",
       "\n",
       "    .dataframe thead th {\n",
       "        text-align: right;\n",
       "    }\n",
       "</style>\n",
       "<table border=\"1\" class=\"dataframe\">\n",
       "  <thead>\n",
       "    <tr style=\"text-align: right;\">\n",
       "      <th></th>\n",
       "      <th>event_type</th>\n",
       "      <th>sub_event_type</th>\n",
       "    </tr>\n",
       "  </thead>\n",
       "  <tbody>\n",
       "    <tr>\n",
       "      <th>0</th>\n",
       "      <td>Violence against civilians</td>\n",
       "      <td>Attack</td>\n",
       "    </tr>\n",
       "    <tr>\n",
       "      <th>1</th>\n",
       "      <td>Violence against civilians</td>\n",
       "      <td>Attack</td>\n",
       "    </tr>\n",
       "    <tr>\n",
       "      <th>10</th>\n",
       "      <td>Explosions/Remote violence</td>\n",
       "      <td>Remote explosive/landmine/IED</td>\n",
       "    </tr>\n",
       "    <tr>\n",
       "      <th>100</th>\n",
       "      <td>Explosions/Remote violence</td>\n",
       "      <td>Remote explosive/landmine/IED</td>\n",
       "    </tr>\n",
       "    <tr>\n",
       "      <th>1000</th>\n",
       "      <td>Violence against civilians</td>\n",
       "      <td>Abduction/forced disappearance</td>\n",
       "    </tr>\n",
       "  </tbody>\n",
       "</table>\n",
       "</div>"
      ],
      "text/plain": [
       "                      event_type                  sub_event_type\n",
       "0     Violence against civilians                          Attack\n",
       "1     Violence against civilians                          Attack\n",
       "10    Explosions/Remote violence   Remote explosive/landmine/IED\n",
       "100   Explosions/Remote violence   Remote explosive/landmine/IED\n",
       "1000  Violence against civilians  Abduction/forced disappearance"
      ]
     },
     "execution_count": 12,
     "metadata": {},
     "output_type": "execute_result"
    }
   ],
   "source": [
    "# Selecting labels for baseline model\n",
    "labels = ['event_type','sub_event_type']\n",
    "labels = df[labels]\n",
    "labels.head()"
   ]
  },
  {
   "cell_type": "code",
   "execution_count": 13,
   "metadata": {},
   "outputs": [],
   "source": [
    "##### Encoding Labels"
   ]
  },
  {
   "cell_type": "code",
   "execution_count": 14,
   "metadata": {},
   "outputs": [
    {
     "data": {
      "text/html": [
       "<div>\n",
       "<style scoped>\n",
       "    .dataframe tbody tr th:only-of-type {\n",
       "        vertical-align: middle;\n",
       "    }\n",
       "\n",
       "    .dataframe tbody tr th {\n",
       "        vertical-align: top;\n",
       "    }\n",
       "\n",
       "    .dataframe thead th {\n",
       "        text-align: right;\n",
       "    }\n",
       "</style>\n",
       "<table border=\"1\" class=\"dataframe\">\n",
       "  <thead>\n",
       "    <tr style=\"text-align: right;\">\n",
       "      <th></th>\n",
       "      <th>year</th>\n",
       "      <th>event_type</th>\n",
       "      <th>sub_event_type</th>\n",
       "      <th>actor</th>\n",
       "      <th>region</th>\n",
       "      <th>country</th>\n",
       "      <th>source</th>\n",
       "      <th>fatalities</th>\n",
       "      <th>date</th>\n",
       "      <th>fatalities_encoded</th>\n",
       "    </tr>\n",
       "  </thead>\n",
       "  <tbody>\n",
       "    <tr>\n",
       "      <th>0</th>\n",
       "      <td>1997</td>\n",
       "      <td>Violence against civilians</td>\n",
       "      <td>Attack</td>\n",
       "      <td>GIA: Armed Islamic Group</td>\n",
       "      <td>Northern Africa</td>\n",
       "      <td>Algeria</td>\n",
       "      <td>Algeria Watch</td>\n",
       "      <td>5</td>\n",
       "      <td>1997-01-01</td>\n",
       "      <td>1</td>\n",
       "    </tr>\n",
       "    <tr>\n",
       "      <th>1</th>\n",
       "      <td>1997</td>\n",
       "      <td>Violence against civilians</td>\n",
       "      <td>Attack</td>\n",
       "      <td>GIA: Armed Islamic Group</td>\n",
       "      <td>Northern Africa</td>\n",
       "      <td>Algeria</td>\n",
       "      <td>Algeria Watch</td>\n",
       "      <td>2</td>\n",
       "      <td>1997-01-02</td>\n",
       "      <td>1</td>\n",
       "    </tr>\n",
       "    <tr>\n",
       "      <th>10</th>\n",
       "      <td>1997</td>\n",
       "      <td>Explosions/Remote violence</td>\n",
       "      <td>Remote explosive/landmine/IED</td>\n",
       "      <td>GIA: Armed Islamic Group</td>\n",
       "      <td>Northern Africa</td>\n",
       "      <td>Algeria</td>\n",
       "      <td>Algeria Watch</td>\n",
       "      <td>20</td>\n",
       "      <td>1997-01-07</td>\n",
       "      <td>1</td>\n",
       "    </tr>\n",
       "    <tr>\n",
       "      <th>100</th>\n",
       "      <td>1997</td>\n",
       "      <td>Explosions/Remote violence</td>\n",
       "      <td>Remote explosive/landmine/IED</td>\n",
       "      <td>GIA: Armed Islamic Group</td>\n",
       "      <td>Northern Africa</td>\n",
       "      <td>Algeria</td>\n",
       "      <td>Algeria Watch</td>\n",
       "      <td>13</td>\n",
       "      <td>1997-08-29</td>\n",
       "      <td>1</td>\n",
       "    </tr>\n",
       "    <tr>\n",
       "      <th>1000</th>\n",
       "      <td>2003</td>\n",
       "      <td>Violence against civilians</td>\n",
       "      <td>Abduction/forced disappearance</td>\n",
       "      <td>GSPC: Salafist Group for Call and Combat</td>\n",
       "      <td>Northern Africa</td>\n",
       "      <td>Algeria</td>\n",
       "      <td>AFP</td>\n",
       "      <td>0</td>\n",
       "      <td>2003-03-08</td>\n",
       "      <td>0</td>\n",
       "    </tr>\n",
       "  </tbody>\n",
       "</table>\n",
       "</div>"
      ],
      "text/plain": [
       "      year                  event_type                  sub_event_type  \\\n",
       "0     1997  Violence against civilians                          Attack   \n",
       "1     1997  Violence against civilians                          Attack   \n",
       "10    1997  Explosions/Remote violence   Remote explosive/landmine/IED   \n",
       "100   1997  Explosions/Remote violence   Remote explosive/landmine/IED   \n",
       "1000  2003  Violence against civilians  Abduction/forced disappearance   \n",
       "\n",
       "                                         actor           region  country  \\\n",
       "0                     GIA: Armed Islamic Group  Northern Africa  Algeria   \n",
       "1                     GIA: Armed Islamic Group  Northern Africa  Algeria   \n",
       "10                    GIA: Armed Islamic Group  Northern Africa  Algeria   \n",
       "100                   GIA: Armed Islamic Group  Northern Africa  Algeria   \n",
       "1000  GSPC: Salafist Group for Call and Combat  Northern Africa  Algeria   \n",
       "\n",
       "             source  fatalities       date fatalities_encoded  \n",
       "0     Algeria Watch           5 1997-01-01                  1  \n",
       "1     Algeria Watch           2 1997-01-02                  1  \n",
       "10    Algeria Watch          20 1997-01-07                  1  \n",
       "100   Algeria Watch          13 1997-08-29                  1  \n",
       "1000            AFP           0 2003-03-08                  0  "
      ]
     },
     "execution_count": 14,
     "metadata": {},
     "output_type": "execute_result"
    }
   ],
   "source": [
    "# Adding a boolean column for fatalities\n",
    "\n",
    "df['fatalities_encoded'] = np.where(df['fatalities']>0, '1', '0')\n",
    "df.head()"
   ]
  },
  {
   "cell_type": "code",
   "execution_count": 15,
   "metadata": {},
   "outputs": [],
   "source": [
    "# del df['fatalities_encoded']"
   ]
  },
  {
   "cell_type": "code",
   "execution_count": 16,
   "metadata": {},
   "outputs": [],
   "source": [
    "# Using get_dummies for values with more than two levels\n",
    "\n",
    "labels_encoded = pd.get_dummies(labels)"
   ]
  },
  {
   "cell_type": "code",
   "execution_count": 17,
   "metadata": {
    "scrolled": true
   },
   "outputs": [],
   "source": [
    "pd.option_context('display.max_rows', None, 'display.max_columns', None)\n",
    "all_labels = pd.concat([labels, labels_encoded], axis=1, sort=False)\n",
    "# all_labels.iloc[2]"
   ]
  },
  {
   "cell_type": "code",
   "execution_count": 18,
   "metadata": {},
   "outputs": [],
   "source": [
    "df = pd.concat([df, labels_encoded], axis = 1, sort = False)\n",
    "# df.iloc[1]"
   ]
  },
  {
   "cell_type": "markdown",
   "metadata": {},
   "source": [
    "## Function: get data for a country\n",
    "- Filter data by country. \n",
    "- Aggregate by month. \n",
    "- Basic plot"
   ]
  },
  {
   "cell_type": "code",
   "execution_count": 31,
   "metadata": {},
   "outputs": [],
   "source": [
    "'''\n",
    "Function to get data for one specific country.\n",
    "Plot data in a timeline\n",
    "Get basic statistics\n",
    "'''\n",
    "\n",
    "def country_data(data, name_country = \"\"):\n",
    "    global df_country\n",
    "    plt.rcParams['figure.figsize'] = (15, 8)\n",
    "    \n",
    "    try:\n",
    "        df_country = data.query('country == \"{}\"'.format(name_country))\n",
    "        event_type = df_country.groupby(['date'])['event_type'].count()\n",
    "        \n",
    "        #graph\n",
    "        event_type.plot(subplots=True, figsize=(20, 10), style='.', alpha=0.5)\n",
    "        print(\"{} of events in {}, {} fatalities (1997-2019)\".\\\n",
    "              format(df_country['event_type'].count(), name_country, df_country.fatalities.sum()))\n",
    "\n",
    "    except NameError as e:\n",
    "        print(\"Error\")\n",
    "        pass\n",
    "    \n",
    "#     return df_country, event_type"
   ]
  },
  {
   "cell_type": "code",
   "execution_count": 33,
   "metadata": {},
   "outputs": [
    {
     "name": "stdout",
     "output_type": "stream",
     "text": [
      "15208 of events in Nigeria, 72663 fatalities (1997-2019)\n"
     ]
    },
    {
     "data": {
      "image/png": "[encoded data removed]",
      "text/plain": [
       "<Figure size 1440x720 with 1 Axes>"
      ]
     },
     "metadata": {
      "needs_background": "light"
     },
     "output_type": "display_data"
    }
   ],
   "source": [
    "country_data(df, 'Nigeria')"
   ]
  },
  {
   "cell_type": "markdown",
   "metadata": {},
   "source": [
    "## ML models"
   ]
  },
  {
   "cell_type": "code",
   "execution_count": null,
   "metadata": {},
   "outputs": [],
   "source": [
    "# Using k-clustering to find anomalies compare to previous month\n",
    "# https://towardsdatascience.com/time-series-of-price-anomaly-detection-13586cd5ff46"
   ]
  },
  {
   "cell_type": "code",
   "execution_count": null,
   "metadata": {},
   "outputs": [],
   "source": []
  },
  {
   "cell_type": "markdown",
   "metadata": {},
   "source": [
    "# Appendix: Data exploration"
   ]
  },
  {
   "cell_type": "code",
   "execution_count": null,
   "metadata": {},
   "outputs": [],
   "source": [
    "# Plot variables sns\n",
    "plt.rcParams['figure.figsize'] = (15, 8)"
   ]
  },
  {
   "cell_type": "code",
   "execution_count": null,
   "metadata": {},
   "outputs": [],
   "source": [
    "print('Event types: {}\\n'.format(df['event_type'].unique()))\n",
    "print('Event subtypes: {}'.format(df['sub_event_type'].unique()))"
   ]
  },
  {
   "cell_type": "code",
   "execution_count": null,
   "metadata": {},
   "outputs": [],
   "source": [
    "# Events\n",
    "sns.countplot(x='event_type', color='lightcoral', data=df)"
   ]
  },
  {
   "cell_type": "code",
   "execution_count": null,
   "metadata": {},
   "outputs": [],
   "source": [
    "# Plotting time series\n",
    "# https://www.kaggle.com/lordkada/acled-simple-analysis\n",
    "\n",
    "# All event 1997 - 2019\n",
    "event_type = df.groupby(['date'])['event_type'].count()\n",
    "event_type.plot(subplots=True, figsize=(20, 10), style='.', alpha=0.5)\n",
    "print(\"1997-2019 - Number of events in {} countries: {}\".\n",
    "      format(df['country'].nunique(), df['event_type'].count()))"
   ]
  },
  {
   "cell_type": "code",
   "execution_count": null,
   "metadata": {},
   "outputs": [],
   "source": [
    "# All subevents by date\n",
    "sub_events = df.groupby(['date', 'sub_event_type'])['sub_event_type', ].count()\n",
    "sub_events.reset_index(level=['date'], inplace= True)\n",
    "sub_events.head()"
   ]
  },
  {
   "cell_type": "code",
   "execution_count": null,
   "metadata": {},
   "outputs": [],
   "source": [
    "year = df.groupby(['year'])['event_type'].count()\n",
    "year.plot(kind='bar', color = 'lightcoral')"
   ]
  },
  {
   "cell_type": "code",
   "execution_count": null,
   "metadata": {},
   "outputs": [],
   "source": [
    "# Use rolling to deseasonalize data \n",
    "event_type['1999'].plot(figsize=(20,10), linewidth=5, fontsize=20, style='x', alpha = 0.5)\n",
    "event_type['1999'].rolling(12).mean().plot(figsize=(20,10), linewidth=2, fontsize=20, alpha = 0.5)\n"
   ]
  },
  {
   "cell_type": "code",
   "execution_count": null,
   "metadata": {},
   "outputs": [],
   "source": [
    "# Plot peaks/diff in data\n",
    "event_type.plot(figsize=(20,10), linewidth=5, fontsize=20, style='.', alpha=0.2 )\n",
    "event_type.diff().plot(figsize=(20,10), linewidth=1, fontsize=20, alpha=0.4 )"
   ]
  }
 ],
 "metadata": {
  "kernelspec": {
   "display_name": "Python 3",
   "language": "python",
   "name": "python3"
  },
  "language_info": {
   "codemirror_mode": {
    "name": "ipython",
    "version": 3
   },
   "file_extension": ".py",
   "mimetype": "text/x-python",
   "name": "python",
   "nbconvert_exporter": "python",
   "pygments_lexer": "ipython3",
   "version": "3.7.3"
  }
 },
 "nbformat": 4,
 "nbformat_minor": 2
}
