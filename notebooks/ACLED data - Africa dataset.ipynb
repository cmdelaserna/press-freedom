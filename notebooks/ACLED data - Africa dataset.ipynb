{
 "cells": [
  {
   "cell_type": "markdown",
   "metadata": {},
   "source": [
    "# Baseline model: Africa data\n",
    "- Import excel file, add date column and export it as json\n",
    "- Use json file\n",
    "- Data formatting: column names. \n",
    "- Encode event_type and sub_event_type\n",
    "- Aggregate by month. Working dataset for ML\n",
    "- Function to plot specific country"
   ]
  },
  {
   "cell_type": "code",
   "execution_count": 1,
   "metadata": {},
   "outputs": [],
   "source": [
    "# African dataset\n",
    "# https://www.acleddata.com/curated-data-files/"
   ]
  },
  {
   "cell_type": "code",
   "execution_count": 2,
   "metadata": {},
   "outputs": [],
   "source": [
    "import pandas as pd\n",
    "from datetime import datetime\n",
    "import matplotlib.pyplot as plt\n",
    "import seaborn as sns\n",
    "import numpy as np\n",
    "from sklearn.linear_model import LogisticRegression"
   ]
  },
  {
   "cell_type": "code",
   "execution_count": 3,
   "metadata": {},
   "outputs": [],
   "source": [
    "pd.set_option('display.max_rows', 500)\n",
    "pd.set_option('display.max_columns', 500)\n",
    "pd.set_option('display.width', 1000)"
   ]
  },
  {
   "cell_type": "markdown",
   "metadata": {},
   "source": [
    "## Exporting excel file as json"
   ]
  },
  {
   "cell_type": "code",
   "execution_count": 4,
   "metadata": {},
   "outputs": [],
   "source": [
    "# # import excel file\n",
    "# df = pd.read_excel('../data/Africa_1997-2019_Oct12-1.xlsx')"
   ]
  },
  {
   "cell_type": "code",
   "execution_count": 5,
   "metadata": {},
   "outputs": [],
   "source": [
    "# # New column for date & month\n",
    "# df['date'] = pd.to_datetime(df['EVENT_DATE']).dt.date"
   ]
  },
  {
   "cell_type": "code",
   "execution_count": 6,
   "metadata": {},
   "outputs": [],
   "source": [
    "# # export dataframe as json\n",
    "# df.to_json('../data/africa-data.json')"
   ]
  },
  {
   "cell_type": "markdown",
   "metadata": {},
   "source": [
    "## Importing data"
   ]
  },
  {
   "cell_type": "code",
   "execution_count": 7,
   "metadata": {},
   "outputs": [],
   "source": [
    "df = pd.read_json('../data/africa-data.json')"
   ]
  },
  {
   "cell_type": "code",
   "execution_count": 8,
   "metadata": {},
   "outputs": [
    {
     "data": {
      "text/plain": [
       "(193565, 30)"
      ]
     },
     "execution_count": 8,
     "metadata": {},
     "output_type": "execute_result"
    }
   ],
   "source": [
    "df.shape"
   ]
  },
  {
   "cell_type": "code",
   "execution_count": null,
   "metadata": {},
   "outputs": [],
   "source": [
    "# df.head()"
   ]
  },
  {
   "cell_type": "markdown",
   "metadata": {},
   "source": [
    "## Data formatting\n",
    "- Rename columns\n",
    "- Encode values\n",
    "- Define classification according to event/fatalities?"
   ]
  },
  {
   "cell_type": "code",
   "execution_count": 9,
   "metadata": {},
   "outputs": [
    {
     "name": "stdout",
     "output_type": "stream",
     "text": [
      "Index(['year', 'event_type', 'sub_event_type', 'actor', 'region', 'country', 'source', 'fatalities', 'date'], dtype='object')\n",
      "(193565, 9)\n"
     ]
    }
   ],
   "source": [
    "# Rename and remove columns\n",
    "columns = ['YEAR', 'EVENT_TYPE', 'SUB_EVENT_TYPE', 'ACTOR1', 'REGION', 'COUNTRY', 'SOURCE', 'FATALITIES', 'date']\n",
    "try:\n",
    "    df = df[columns]\n",
    "    df.columns = ['year', 'event_type', 'sub_event_type', 'actor', 'region', 'country', 'source', 'fatalities', 'date']\n",
    "except KeyError as e:\n",
    "    print(e)\n",
    "    pass\n",
    "\n",
    "print(df.columns)\n",
    "print(df.shape)"
   ]
  },
  {
   "cell_type": "code",
   "execution_count": 10,
   "metadata": {},
   "outputs": [],
   "source": [
    "# Encode event_types and sub_event_types\n",
    "# https://www.datacamp.com/community/tutorials/categorical-data"
   ]
  },
  {
   "cell_type": "code",
   "execution_count": 12,
   "metadata": {},
   "outputs": [
    {
     "name": "stdout",
     "output_type": "stream",
     "text": [
      "**Categorical values**\n",
      "\n",
      "6 event types:\n",
      " ['Violence against civilians' 'Explosions/Remote violence'\n",
      " 'Strategic developments' 'Battles' 'Protests' 'Riots']\n",
      "\n",
      "25 sub_event types:\n",
      " ['Attack' 'Remote explosive/landmine/IED' 'Abduction/forced disappearance'\n",
      " 'Non-violent transfer of territory' 'Armed clash'\n",
      " 'Looting/property destruction' 'Headquarters or base established'\n",
      " 'Peaceful protest' 'Non-state actor overtakes territory'\n",
      " 'Government regains territory' 'Protest with intervention'\n",
      " 'Change to group/activity' 'Mob violence' 'Violent demonstration'\n",
      " 'Sexual violence' 'Arrests' 'Air/drone strike'\n",
      " 'Shelling/artillery/missile attack' 'Disrupted weapons use'\n",
      " 'Excessive force against protesters' 'Agreement' 'Other' 'Grenade'\n",
      " 'Suicide bomb' 'Chemical weapon']\n",
      "\n",
      "4065 actors:\n",
      " ['GIA: Armed Islamic Group' 'GSPC: Salafist Group for Call and Combat'\n",
      " 'Unidentified Armed Group (Angola)' ...\n",
      " 'AFRC: Armed Forces Revolutionary Council (Advance Teams)'\n",
      " 'Kakula Militia' 'Militia (Superman Faction)']\n",
      "\n",
      "49 countries:\n",
      " ['Algeria' 'Angola' 'Sierra Leone' 'Somalia' 'Botswana' 'Burundi'\n",
      " 'South Africa' 'Zimbabwe' 'South Sudan' 'Sudan' 'eSwatini' 'Togo'\n",
      " 'Tunisia' 'Uganda' 'Egypt' 'Cameroon' 'Tanzania' 'Burkina Faso' 'Zambia'\n",
      " 'Central African Republic' 'Chad' 'Republic of Congo'\n",
      " 'Democratic Republic of Congo' 'Benin' 'Equatorial Guinea' 'Ethiopia'\n",
      " 'Eritrea' 'Djibouti' 'Gabon' 'Gambia' 'Ghana' 'Guinea' 'Ivory Coast'\n",
      " 'Kenya' 'Lesotho' 'Liberia' 'Libya' 'Madagascar' 'Malawi' 'Mali'\n",
      " 'Mauritania' 'Morocco' 'Mozambique' 'Namibia' 'Niger' 'Nigeria'\n",
      " 'Guinea-Bissau' 'Rwanda' 'Senegal']\n",
      "\n"
     ]
    }
   ],
   "source": [
    "print('**Categorical values**\\n')\n",
    "print('{} event types:\\n {}\\n'.format(df.event_type.nunique(), df.event_type.unique()))\n",
    "print('{} sub_event types:\\n {}\\n'.format(df.sub_event_type.nunique(), df.sub_event_type.unique()))\n",
    "print('{} actors:\\n {}\\n'.format(df.actor.nunique(), df.actor.unique()))\n",
    "print('{} countries:\\n {}\\n'.format(df.country.nunique(), df.country.unique()))"
   ]
  },
  {
   "cell_type": "code",
   "execution_count": 13,
   "metadata": {},
   "outputs": [
    {
     "data": {
      "text/html": [
       "<div>\n",
       "<style scoped>\n",
       "    .dataframe tbody tr th:only-of-type {\n",
       "        vertical-align: middle;\n",
       "    }\n",
       "\n",
       "    .dataframe tbody tr th {\n",
       "        vertical-align: top;\n",
       "    }\n",
       "\n",
       "    .dataframe thead th {\n",
       "        text-align: right;\n",
       "    }\n",
       "</style>\n",
       "<table border=\"1\" class=\"dataframe\">\n",
       "  <thead>\n",
       "    <tr style=\"text-align: right;\">\n",
       "      <th></th>\n",
       "      <th>event_type</th>\n",
       "      <th>sub_event_type</th>\n",
       "      <th>country</th>\n",
       "    </tr>\n",
       "  </thead>\n",
       "  <tbody>\n",
       "    <tr>\n",
       "      <th>0</th>\n",
       "      <td>Violence against civilians</td>\n",
       "      <td>Attack</td>\n",
       "      <td>Algeria</td>\n",
       "    </tr>\n",
       "    <tr>\n",
       "      <th>1</th>\n",
       "      <td>Violence against civilians</td>\n",
       "      <td>Attack</td>\n",
       "      <td>Algeria</td>\n",
       "    </tr>\n",
       "    <tr>\n",
       "      <th>10</th>\n",
       "      <td>Explosions/Remote violence</td>\n",
       "      <td>Remote explosive/landmine/IED</td>\n",
       "      <td>Algeria</td>\n",
       "    </tr>\n",
       "    <tr>\n",
       "      <th>100</th>\n",
       "      <td>Explosions/Remote violence</td>\n",
       "      <td>Remote explosive/landmine/IED</td>\n",
       "      <td>Algeria</td>\n",
       "    </tr>\n",
       "    <tr>\n",
       "      <th>1000</th>\n",
       "      <td>Violence against civilians</td>\n",
       "      <td>Abduction/forced disappearance</td>\n",
       "      <td>Algeria</td>\n",
       "    </tr>\n",
       "  </tbody>\n",
       "</table>\n",
       "</div>"
      ],
      "text/plain": [
       "                      event_type                  sub_event_type  country\n",
       "0     Violence against civilians                          Attack  Algeria\n",
       "1     Violence against civilians                          Attack  Algeria\n",
       "10    Explosions/Remote violence   Remote explosive/landmine/IED  Algeria\n",
       "100   Explosions/Remote violence   Remote explosive/landmine/IED  Algeria\n",
       "1000  Violence against civilians  Abduction/forced disappearance  Algeria"
      ]
     },
     "execution_count": 13,
     "metadata": {},
     "output_type": "execute_result"
    }
   ],
   "source": [
    "# Selecting labels for encoding in baseline model\n",
    "labels = ['event_type','sub_event_type', 'country']\n",
    "labels = df[labels]\n",
    "labels.head()"
   ]
  },
  {
   "cell_type": "code",
   "execution_count": 14,
   "metadata": {},
   "outputs": [],
   "source": [
    "##### Encoding Labels"
   ]
  },
  {
   "cell_type": "code",
   "execution_count": 15,
   "metadata": {},
   "outputs": [
    {
     "data": {
      "text/html": [
       "<div>\n",
       "<style scoped>\n",
       "    .dataframe tbody tr th:only-of-type {\n",
       "        vertical-align: middle;\n",
       "    }\n",
       "\n",
       "    .dataframe tbody tr th {\n",
       "        vertical-align: top;\n",
       "    }\n",
       "\n",
       "    .dataframe thead th {\n",
       "        text-align: right;\n",
       "    }\n",
       "</style>\n",
       "<table border=\"1\" class=\"dataframe\">\n",
       "  <thead>\n",
       "    <tr style=\"text-align: right;\">\n",
       "      <th></th>\n",
       "      <th>year</th>\n",
       "      <th>event_type</th>\n",
       "      <th>sub_event_type</th>\n",
       "      <th>actor</th>\n",
       "      <th>region</th>\n",
       "      <th>country</th>\n",
       "      <th>source</th>\n",
       "      <th>fatalities</th>\n",
       "      <th>date</th>\n",
       "      <th>fatalities_encoded</th>\n",
       "    </tr>\n",
       "  </thead>\n",
       "  <tbody>\n",
       "    <tr>\n",
       "      <th>0</th>\n",
       "      <td>1997</td>\n",
       "      <td>Violence against civilians</td>\n",
       "      <td>Attack</td>\n",
       "      <td>GIA: Armed Islamic Group</td>\n",
       "      <td>Northern Africa</td>\n",
       "      <td>Algeria</td>\n",
       "      <td>Algeria Watch</td>\n",
       "      <td>5</td>\n",
       "      <td>1997-01-01</td>\n",
       "      <td>1</td>\n",
       "    </tr>\n",
       "    <tr>\n",
       "      <th>1</th>\n",
       "      <td>1997</td>\n",
       "      <td>Violence against civilians</td>\n",
       "      <td>Attack</td>\n",
       "      <td>GIA: Armed Islamic Group</td>\n",
       "      <td>Northern Africa</td>\n",
       "      <td>Algeria</td>\n",
       "      <td>Algeria Watch</td>\n",
       "      <td>2</td>\n",
       "      <td>1997-01-02</td>\n",
       "      <td>1</td>\n",
       "    </tr>\n",
       "    <tr>\n",
       "      <th>10</th>\n",
       "      <td>1997</td>\n",
       "      <td>Explosions/Remote violence</td>\n",
       "      <td>Remote explosive/landmine/IED</td>\n",
       "      <td>GIA: Armed Islamic Group</td>\n",
       "      <td>Northern Africa</td>\n",
       "      <td>Algeria</td>\n",
       "      <td>Algeria Watch</td>\n",
       "      <td>20</td>\n",
       "      <td>1997-01-07</td>\n",
       "      <td>1</td>\n",
       "    </tr>\n",
       "    <tr>\n",
       "      <th>100</th>\n",
       "      <td>1997</td>\n",
       "      <td>Explosions/Remote violence</td>\n",
       "      <td>Remote explosive/landmine/IED</td>\n",
       "      <td>GIA: Armed Islamic Group</td>\n",
       "      <td>Northern Africa</td>\n",
       "      <td>Algeria</td>\n",
       "      <td>Algeria Watch</td>\n",
       "      <td>13</td>\n",
       "      <td>1997-08-29</td>\n",
       "      <td>1</td>\n",
       "    </tr>\n",
       "    <tr>\n",
       "      <th>1000</th>\n",
       "      <td>2003</td>\n",
       "      <td>Violence against civilians</td>\n",
       "      <td>Abduction/forced disappearance</td>\n",
       "      <td>GSPC: Salafist Group for Call and Combat</td>\n",
       "      <td>Northern Africa</td>\n",
       "      <td>Algeria</td>\n",
       "      <td>AFP</td>\n",
       "      <td>0</td>\n",
       "      <td>2003-03-08</td>\n",
       "      <td>0</td>\n",
       "    </tr>\n",
       "  </tbody>\n",
       "</table>\n",
       "</div>"
      ],
      "text/plain": [
       "      year                  event_type                  sub_event_type                                     actor           region  country         source  fatalities       date fatalities_encoded\n",
       "0     1997  Violence against civilians                          Attack                  GIA: Armed Islamic Group  Northern Africa  Algeria  Algeria Watch           5 1997-01-01                  1\n",
       "1     1997  Violence against civilians                          Attack                  GIA: Armed Islamic Group  Northern Africa  Algeria  Algeria Watch           2 1997-01-02                  1\n",
       "10    1997  Explosions/Remote violence   Remote explosive/landmine/IED                  GIA: Armed Islamic Group  Northern Africa  Algeria  Algeria Watch          20 1997-01-07                  1\n",
       "100   1997  Explosions/Remote violence   Remote explosive/landmine/IED                  GIA: Armed Islamic Group  Northern Africa  Algeria  Algeria Watch          13 1997-08-29                  1\n",
       "1000  2003  Violence against civilians  Abduction/forced disappearance  GSPC: Salafist Group for Call and Combat  Northern Africa  Algeria            AFP           0 2003-03-08                  0"
      ]
     },
     "execution_count": 15,
     "metadata": {},
     "output_type": "execute_result"
    }
   ],
   "source": [
    "# Adding a boolean column for fatalities\n",
    "\n",
    "df['fatalities_encoded'] = np.where(df['fatalities']>0, '1', '0')\n",
    "df.head()"
   ]
  },
  {
   "cell_type": "code",
   "execution_count": 16,
   "metadata": {},
   "outputs": [],
   "source": [
    "# One-Hot Encoding with get_dummies\n",
    "\n",
    "labels_encoded = pd.get_dummies(labels)"
   ]
  },
  {
   "cell_type": "code",
   "execution_count": 17,
   "metadata": {},
   "outputs": [
    {
     "data": {
      "text/html": [
       "<div>\n",
       "<style scoped>\n",
       "    .dataframe tbody tr th:only-of-type {\n",
       "        vertical-align: middle;\n",
       "    }\n",
       "\n",
       "    .dataframe tbody tr th {\n",
       "        vertical-align: top;\n",
       "    }\n",
       "\n",
       "    .dataframe thead th {\n",
       "        text-align: right;\n",
       "    }\n",
       "</style>\n",
       "<table border=\"1\" class=\"dataframe\">\n",
       "  <thead>\n",
       "    <tr style=\"text-align: right;\">\n",
       "      <th></th>\n",
       "      <th>event_type_Battles</th>\n",
       "      <th>event_type_Explosions/Remote violence</th>\n",
       "      <th>event_type_Protests</th>\n",
       "      <th>event_type_Riots</th>\n",
       "      <th>event_type_Strategic developments</th>\n",
       "      <th>event_type_Violence against civilians</th>\n",
       "      <th>sub_event_type_Abduction/forced disappearance</th>\n",
       "      <th>sub_event_type_Agreement</th>\n",
       "      <th>sub_event_type_Air/drone strike</th>\n",
       "      <th>sub_event_type_Armed clash</th>\n",
       "      <th>sub_event_type_Arrests</th>\n",
       "      <th>sub_event_type_Attack</th>\n",
       "      <th>sub_event_type_Change to group/activity</th>\n",
       "      <th>sub_event_type_Chemical weapon</th>\n",
       "      <th>sub_event_type_Disrupted weapons use</th>\n",
       "      <th>sub_event_type_Excessive force against protesters</th>\n",
       "      <th>sub_event_type_Government regains territory</th>\n",
       "      <th>sub_event_type_Grenade</th>\n",
       "      <th>sub_event_type_Headquarters or base established</th>\n",
       "      <th>sub_event_type_Looting/property destruction</th>\n",
       "      <th>sub_event_type_Mob violence</th>\n",
       "      <th>sub_event_type_Non-state actor overtakes territory</th>\n",
       "      <th>sub_event_type_Non-violent transfer of territory</th>\n",
       "      <th>sub_event_type_Other</th>\n",
       "      <th>sub_event_type_Peaceful protest</th>\n",
       "      <th>sub_event_type_Protest with intervention</th>\n",
       "      <th>sub_event_type_Remote explosive/landmine/IED</th>\n",
       "      <th>sub_event_type_Sexual violence</th>\n",
       "      <th>sub_event_type_Shelling/artillery/missile attack</th>\n",
       "      <th>sub_event_type_Suicide bomb</th>\n",
       "      <th>sub_event_type_Violent demonstration</th>\n",
       "      <th>country_Algeria</th>\n",
       "      <th>country_Angola</th>\n",
       "      <th>country_Benin</th>\n",
       "      <th>country_Botswana</th>\n",
       "      <th>country_Burkina Faso</th>\n",
       "      <th>country_Burundi</th>\n",
       "      <th>country_Cameroon</th>\n",
       "      <th>country_Central African Republic</th>\n",
       "      <th>country_Chad</th>\n",
       "      <th>country_Democratic Republic of Congo</th>\n",
       "      <th>country_Djibouti</th>\n",
       "      <th>country_Egypt</th>\n",
       "      <th>country_Equatorial Guinea</th>\n",
       "      <th>country_Eritrea</th>\n",
       "      <th>country_Ethiopia</th>\n",
       "      <th>country_Gabon</th>\n",
       "      <th>country_Gambia</th>\n",
       "      <th>country_Ghana</th>\n",
       "      <th>country_Guinea</th>\n",
       "      <th>country_Guinea-Bissau</th>\n",
       "      <th>country_Ivory Coast</th>\n",
       "      <th>country_Kenya</th>\n",
       "      <th>country_Lesotho</th>\n",
       "      <th>country_Liberia</th>\n",
       "      <th>country_Libya</th>\n",
       "      <th>country_Madagascar</th>\n",
       "      <th>country_Malawi</th>\n",
       "      <th>country_Mali</th>\n",
       "      <th>country_Mauritania</th>\n",
       "      <th>country_Morocco</th>\n",
       "      <th>country_Mozambique</th>\n",
       "      <th>country_Namibia</th>\n",
       "      <th>country_Niger</th>\n",
       "      <th>country_Nigeria</th>\n",
       "      <th>country_Republic of Congo</th>\n",
       "      <th>country_Rwanda</th>\n",
       "      <th>country_Senegal</th>\n",
       "      <th>country_Sierra Leone</th>\n",
       "      <th>country_Somalia</th>\n",
       "      <th>country_South Africa</th>\n",
       "      <th>country_South Sudan</th>\n",
       "      <th>country_Sudan</th>\n",
       "      <th>country_Tanzania</th>\n",
       "      <th>country_Togo</th>\n",
       "      <th>country_Tunisia</th>\n",
       "      <th>country_Uganda</th>\n",
       "      <th>country_Zambia</th>\n",
       "      <th>country_Zimbabwe</th>\n",
       "      <th>country_eSwatini</th>\n",
       "    </tr>\n",
       "  </thead>\n",
       "  <tbody>\n",
       "    <tr>\n",
       "      <th>0</th>\n",
       "      <td>0</td>\n",
       "      <td>0</td>\n",
       "      <td>0</td>\n",
       "      <td>0</td>\n",
       "      <td>0</td>\n",
       "      <td>1</td>\n",
       "      <td>0</td>\n",
       "      <td>0</td>\n",
       "      <td>0</td>\n",
       "      <td>0</td>\n",
       "      <td>0</td>\n",
       "      <td>1</td>\n",
       "      <td>0</td>\n",
       "      <td>0</td>\n",
       "      <td>0</td>\n",
       "      <td>0</td>\n",
       "      <td>0</td>\n",
       "      <td>0</td>\n",
       "      <td>0</td>\n",
       "      <td>0</td>\n",
       "      <td>0</td>\n",
       "      <td>0</td>\n",
       "      <td>0</td>\n",
       "      <td>0</td>\n",
       "      <td>0</td>\n",
       "      <td>0</td>\n",
       "      <td>0</td>\n",
       "      <td>0</td>\n",
       "      <td>0</td>\n",
       "      <td>0</td>\n",
       "      <td>0</td>\n",
       "      <td>1</td>\n",
       "      <td>0</td>\n",
       "      <td>0</td>\n",
       "      <td>0</td>\n",
       "      <td>0</td>\n",
       "      <td>0</td>\n",
       "      <td>0</td>\n",
       "      <td>0</td>\n",
       "      <td>0</td>\n",
       "      <td>0</td>\n",
       "      <td>0</td>\n",
       "      <td>0</td>\n",
       "      <td>0</td>\n",
       "      <td>0</td>\n",
       "      <td>0</td>\n",
       "      <td>0</td>\n",
       "      <td>0</td>\n",
       "      <td>0</td>\n",
       "      <td>0</td>\n",
       "      <td>0</td>\n",
       "      <td>0</td>\n",
       "      <td>0</td>\n",
       "      <td>0</td>\n",
       "      <td>0</td>\n",
       "      <td>0</td>\n",
       "      <td>0</td>\n",
       "      <td>0</td>\n",
       "      <td>0</td>\n",
       "      <td>0</td>\n",
       "      <td>0</td>\n",
       "      <td>0</td>\n",
       "      <td>0</td>\n",
       "      <td>0</td>\n",
       "      <td>0</td>\n",
       "      <td>0</td>\n",
       "      <td>0</td>\n",
       "      <td>0</td>\n",
       "      <td>0</td>\n",
       "      <td>0</td>\n",
       "      <td>0</td>\n",
       "      <td>0</td>\n",
       "      <td>0</td>\n",
       "      <td>0</td>\n",
       "      <td>0</td>\n",
       "      <td>0</td>\n",
       "      <td>0</td>\n",
       "      <td>0</td>\n",
       "      <td>0</td>\n",
       "      <td>0</td>\n",
       "    </tr>\n",
       "    <tr>\n",
       "      <th>1</th>\n",
       "      <td>0</td>\n",
       "      <td>0</td>\n",
       "      <td>0</td>\n",
       "      <td>0</td>\n",
       "      <td>0</td>\n",
       "      <td>1</td>\n",
       "      <td>0</td>\n",
       "      <td>0</td>\n",
       "      <td>0</td>\n",
       "      <td>0</td>\n",
       "      <td>0</td>\n",
       "      <td>1</td>\n",
       "      <td>0</td>\n",
       "      <td>0</td>\n",
       "      <td>0</td>\n",
       "      <td>0</td>\n",
       "      <td>0</td>\n",
       "      <td>0</td>\n",
       "      <td>0</td>\n",
       "      <td>0</td>\n",
       "      <td>0</td>\n",
       "      <td>0</td>\n",
       "      <td>0</td>\n",
       "      <td>0</td>\n",
       "      <td>0</td>\n",
       "      <td>0</td>\n",
       "      <td>0</td>\n",
       "      <td>0</td>\n",
       "      <td>0</td>\n",
       "      <td>0</td>\n",
       "      <td>0</td>\n",
       "      <td>1</td>\n",
       "      <td>0</td>\n",
       "      <td>0</td>\n",
       "      <td>0</td>\n",
       "      <td>0</td>\n",
       "      <td>0</td>\n",
       "      <td>0</td>\n",
       "      <td>0</td>\n",
       "      <td>0</td>\n",
       "      <td>0</td>\n",
       "      <td>0</td>\n",
       "      <td>0</td>\n",
       "      <td>0</td>\n",
       "      <td>0</td>\n",
       "      <td>0</td>\n",
       "      <td>0</td>\n",
       "      <td>0</td>\n",
       "      <td>0</td>\n",
       "      <td>0</td>\n",
       "      <td>0</td>\n",
       "      <td>0</td>\n",
       "      <td>0</td>\n",
       "      <td>0</td>\n",
       "      <td>0</td>\n",
       "      <td>0</td>\n",
       "      <td>0</td>\n",
       "      <td>0</td>\n",
       "      <td>0</td>\n",
       "      <td>0</td>\n",
       "      <td>0</td>\n",
       "      <td>0</td>\n",
       "      <td>0</td>\n",
       "      <td>0</td>\n",
       "      <td>0</td>\n",
       "      <td>0</td>\n",
       "      <td>0</td>\n",
       "      <td>0</td>\n",
       "      <td>0</td>\n",
       "      <td>0</td>\n",
       "      <td>0</td>\n",
       "      <td>0</td>\n",
       "      <td>0</td>\n",
       "      <td>0</td>\n",
       "      <td>0</td>\n",
       "      <td>0</td>\n",
       "      <td>0</td>\n",
       "      <td>0</td>\n",
       "      <td>0</td>\n",
       "      <td>0</td>\n",
       "    </tr>\n",
       "    <tr>\n",
       "      <th>10</th>\n",
       "      <td>0</td>\n",
       "      <td>1</td>\n",
       "      <td>0</td>\n",
       "      <td>0</td>\n",
       "      <td>0</td>\n",
       "      <td>0</td>\n",
       "      <td>0</td>\n",
       "      <td>0</td>\n",
       "      <td>0</td>\n",
       "      <td>0</td>\n",
       "      <td>0</td>\n",
       "      <td>0</td>\n",
       "      <td>0</td>\n",
       "      <td>0</td>\n",
       "      <td>0</td>\n",
       "      <td>0</td>\n",
       "      <td>0</td>\n",
       "      <td>0</td>\n",
       "      <td>0</td>\n",
       "      <td>0</td>\n",
       "      <td>0</td>\n",
       "      <td>0</td>\n",
       "      <td>0</td>\n",
       "      <td>0</td>\n",
       "      <td>0</td>\n",
       "      <td>0</td>\n",
       "      <td>1</td>\n",
       "      <td>0</td>\n",
       "      <td>0</td>\n",
       "      <td>0</td>\n",
       "      <td>0</td>\n",
       "      <td>1</td>\n",
       "      <td>0</td>\n",
       "      <td>0</td>\n",
       "      <td>0</td>\n",
       "      <td>0</td>\n",
       "      <td>0</td>\n",
       "      <td>0</td>\n",
       "      <td>0</td>\n",
       "      <td>0</td>\n",
       "      <td>0</td>\n",
       "      <td>0</td>\n",
       "      <td>0</td>\n",
       "      <td>0</td>\n",
       "      <td>0</td>\n",
       "      <td>0</td>\n",
       "      <td>0</td>\n",
       "      <td>0</td>\n",
       "      <td>0</td>\n",
       "      <td>0</td>\n",
       "      <td>0</td>\n",
       "      <td>0</td>\n",
       "      <td>0</td>\n",
       "      <td>0</td>\n",
       "      <td>0</td>\n",
       "      <td>0</td>\n",
       "      <td>0</td>\n",
       "      <td>0</td>\n",
       "      <td>0</td>\n",
       "      <td>0</td>\n",
       "      <td>0</td>\n",
       "      <td>0</td>\n",
       "      <td>0</td>\n",
       "      <td>0</td>\n",
       "      <td>0</td>\n",
       "      <td>0</td>\n",
       "      <td>0</td>\n",
       "      <td>0</td>\n",
       "      <td>0</td>\n",
       "      <td>0</td>\n",
       "      <td>0</td>\n",
       "      <td>0</td>\n",
       "      <td>0</td>\n",
       "      <td>0</td>\n",
       "      <td>0</td>\n",
       "      <td>0</td>\n",
       "      <td>0</td>\n",
       "      <td>0</td>\n",
       "      <td>0</td>\n",
       "      <td>0</td>\n",
       "    </tr>\n",
       "    <tr>\n",
       "      <th>100</th>\n",
       "      <td>0</td>\n",
       "      <td>1</td>\n",
       "      <td>0</td>\n",
       "      <td>0</td>\n",
       "      <td>0</td>\n",
       "      <td>0</td>\n",
       "      <td>0</td>\n",
       "      <td>0</td>\n",
       "      <td>0</td>\n",
       "      <td>0</td>\n",
       "      <td>0</td>\n",
       "      <td>0</td>\n",
       "      <td>0</td>\n",
       "      <td>0</td>\n",
       "      <td>0</td>\n",
       "      <td>0</td>\n",
       "      <td>0</td>\n",
       "      <td>0</td>\n",
       "      <td>0</td>\n",
       "      <td>0</td>\n",
       "      <td>0</td>\n",
       "      <td>0</td>\n",
       "      <td>0</td>\n",
       "      <td>0</td>\n",
       "      <td>0</td>\n",
       "      <td>0</td>\n",
       "      <td>1</td>\n",
       "      <td>0</td>\n",
       "      <td>0</td>\n",
       "      <td>0</td>\n",
       "      <td>0</td>\n",
       "      <td>1</td>\n",
       "      <td>0</td>\n",
       "      <td>0</td>\n",
       "      <td>0</td>\n",
       "      <td>0</td>\n",
       "      <td>0</td>\n",
       "      <td>0</td>\n",
       "      <td>0</td>\n",
       "      <td>0</td>\n",
       "      <td>0</td>\n",
       "      <td>0</td>\n",
       "      <td>0</td>\n",
       "      <td>0</td>\n",
       "      <td>0</td>\n",
       "      <td>0</td>\n",
       "      <td>0</td>\n",
       "      <td>0</td>\n",
       "      <td>0</td>\n",
       "      <td>0</td>\n",
       "      <td>0</td>\n",
       "      <td>0</td>\n",
       "      <td>0</td>\n",
       "      <td>0</td>\n",
       "      <td>0</td>\n",
       "      <td>0</td>\n",
       "      <td>0</td>\n",
       "      <td>0</td>\n",
       "      <td>0</td>\n",
       "      <td>0</td>\n",
       "      <td>0</td>\n",
       "      <td>0</td>\n",
       "      <td>0</td>\n",
       "      <td>0</td>\n",
       "      <td>0</td>\n",
       "      <td>0</td>\n",
       "      <td>0</td>\n",
       "      <td>0</td>\n",
       "      <td>0</td>\n",
       "      <td>0</td>\n",
       "      <td>0</td>\n",
       "      <td>0</td>\n",
       "      <td>0</td>\n",
       "      <td>0</td>\n",
       "      <td>0</td>\n",
       "      <td>0</td>\n",
       "      <td>0</td>\n",
       "      <td>0</td>\n",
       "      <td>0</td>\n",
       "      <td>0</td>\n",
       "    </tr>\n",
       "    <tr>\n",
       "      <th>1000</th>\n",
       "      <td>0</td>\n",
       "      <td>0</td>\n",
       "      <td>0</td>\n",
       "      <td>0</td>\n",
       "      <td>0</td>\n",
       "      <td>1</td>\n",
       "      <td>1</td>\n",
       "      <td>0</td>\n",
       "      <td>0</td>\n",
       "      <td>0</td>\n",
       "      <td>0</td>\n",
       "      <td>0</td>\n",
       "      <td>0</td>\n",
       "      <td>0</td>\n",
       "      <td>0</td>\n",
       "      <td>0</td>\n",
       "      <td>0</td>\n",
       "      <td>0</td>\n",
       "      <td>0</td>\n",
       "      <td>0</td>\n",
       "      <td>0</td>\n",
       "      <td>0</td>\n",
       "      <td>0</td>\n",
       "      <td>0</td>\n",
       "      <td>0</td>\n",
       "      <td>0</td>\n",
       "      <td>0</td>\n",
       "      <td>0</td>\n",
       "      <td>0</td>\n",
       "      <td>0</td>\n",
       "      <td>0</td>\n",
       "      <td>1</td>\n",
       "      <td>0</td>\n",
       "      <td>0</td>\n",
       "      <td>0</td>\n",
       "      <td>0</td>\n",
       "      <td>0</td>\n",
       "      <td>0</td>\n",
       "      <td>0</td>\n",
       "      <td>0</td>\n",
       "      <td>0</td>\n",
       "      <td>0</td>\n",
       "      <td>0</td>\n",
       "      <td>0</td>\n",
       "      <td>0</td>\n",
       "      <td>0</td>\n",
       "      <td>0</td>\n",
       "      <td>0</td>\n",
       "      <td>0</td>\n",
       "      <td>0</td>\n",
       "      <td>0</td>\n",
       "      <td>0</td>\n",
       "      <td>0</td>\n",
       "      <td>0</td>\n",
       "      <td>0</td>\n",
       "      <td>0</td>\n",
       "      <td>0</td>\n",
       "      <td>0</td>\n",
       "      <td>0</td>\n",
       "      <td>0</td>\n",
       "      <td>0</td>\n",
       "      <td>0</td>\n",
       "      <td>0</td>\n",
       "      <td>0</td>\n",
       "      <td>0</td>\n",
       "      <td>0</td>\n",
       "      <td>0</td>\n",
       "      <td>0</td>\n",
       "      <td>0</td>\n",
       "      <td>0</td>\n",
       "      <td>0</td>\n",
       "      <td>0</td>\n",
       "      <td>0</td>\n",
       "      <td>0</td>\n",
       "      <td>0</td>\n",
       "      <td>0</td>\n",
       "      <td>0</td>\n",
       "      <td>0</td>\n",
       "      <td>0</td>\n",
       "      <td>0</td>\n",
       "    </tr>\n",
       "  </tbody>\n",
       "</table>\n",
       "</div>"
      ],
      "text/plain": [
       "      event_type_Battles  event_type_Explosions/Remote violence  event_type_Protests  event_type_Riots  event_type_Strategic developments  event_type_Violence against civilians  sub_event_type_Abduction/forced disappearance  sub_event_type_Agreement  sub_event_type_Air/drone strike  sub_event_type_Armed clash  sub_event_type_Arrests  sub_event_type_Attack  sub_event_type_Change to group/activity  sub_event_type_Chemical weapon  sub_event_type_Disrupted weapons use  sub_event_type_Excessive force against protesters  sub_event_type_Government regains territory  sub_event_type_Grenade  sub_event_type_Headquarters or base established  sub_event_type_Looting/property destruction  sub_event_type_Mob violence  sub_event_type_Non-state actor overtakes territory  sub_event_type_Non-violent transfer of territory  sub_event_type_Other  sub_event_type_Peaceful protest  sub_event_type_Protest with intervention  sub_event_type_Remote explosive/landmine/IED  sub_event_type_Sexual violence  \\\n",
       "0                      0                                      0                    0                 0                                  0                                      1                                              0                         0                                0                           0                       0                      1                                        0                               0                                     0                                                  0                                            0                       0                                                0                                            0                            0                                                  0                                                  0                     0                                0                                         0                                             0                               0   \n",
       "1                      0                                      0                    0                 0                                  0                                      1                                              0                         0                                0                           0                       0                      1                                        0                               0                                     0                                                  0                                            0                       0                                                0                                            0                            0                                                  0                                                  0                     0                                0                                         0                                             0                               0   \n",
       "10                     0                                      1                    0                 0                                  0                                      0                                              0                         0                                0                           0                       0                      0                                        0                               0                                     0                                                  0                                            0                       0                                                0                                            0                            0                                                  0                                                  0                     0                                0                                         0                                             1                               0   \n",
       "100                    0                                      1                    0                 0                                  0                                      0                                              0                         0                                0                           0                       0                      0                                        0                               0                                     0                                                  0                                            0                       0                                                0                                            0                            0                                                  0                                                  0                     0                                0                                         0                                             1                               0   \n",
       "1000                   0                                      0                    0                 0                                  0                                      1                                              1                         0                                0                           0                       0                      0                                        0                               0                                     0                                                  0                                            0                       0                                                0                                            0                            0                                                  0                                                  0                     0                                0                                         0                                             0                               0   \n",
       "\n",
       "      sub_event_type_Shelling/artillery/missile attack  sub_event_type_Suicide bomb  sub_event_type_Violent demonstration  country_Algeria  country_Angola  country_Benin  country_Botswana  country_Burkina Faso  country_Burundi  country_Cameroon  country_Central African Republic  country_Chad  country_Democratic Republic of Congo  country_Djibouti  country_Egypt  country_Equatorial Guinea  country_Eritrea  country_Ethiopia  country_Gabon  country_Gambia  country_Ghana  country_Guinea  country_Guinea-Bissau  country_Ivory Coast  country_Kenya  country_Lesotho  country_Liberia  country_Libya  country_Madagascar  country_Malawi  country_Mali  country_Mauritania  country_Morocco  country_Mozambique  country_Namibia  country_Niger  country_Nigeria  country_Republic of Congo  country_Rwanda  country_Senegal  country_Sierra Leone  country_Somalia  country_South Africa  country_South Sudan  country_Sudan  country_Tanzania  country_Togo  country_Tunisia  country_Uganda  country_Zambia  \\\n",
       "0                                                    0                            0                                     0                1               0              0                 0                     0                0                 0                                 0             0                                     0                 0              0                          0                0                 0              0               0              0               0                      0                    0              0                0                0              0                   0               0             0                   0                0                   0                0              0                0                          0               0                0                     0                0                     0                    0              0                 0             0                0               0               0   \n",
       "1                                                    0                            0                                     0                1               0              0                 0                     0                0                 0                                 0             0                                     0                 0              0                          0                0                 0              0               0              0               0                      0                    0              0                0                0              0                   0               0             0                   0                0                   0                0              0                0                          0               0                0                     0                0                     0                    0              0                 0             0                0               0               0   \n",
       "10                                                   0                            0                                     0                1               0              0                 0                     0                0                 0                                 0             0                                     0                 0              0                          0                0                 0              0               0              0               0                      0                    0              0                0                0              0                   0               0             0                   0                0                   0                0              0                0                          0               0                0                     0                0                     0                    0              0                 0             0                0               0               0   \n",
       "100                                                  0                            0                                     0                1               0              0                 0                     0                0                 0                                 0             0                                     0                 0              0                          0                0                 0              0               0              0               0                      0                    0              0                0                0              0                   0               0             0                   0                0                   0                0              0                0                          0               0                0                     0                0                     0                    0              0                 0             0                0               0               0   \n",
       "1000                                                 0                            0                                     0                1               0              0                 0                     0                0                 0                                 0             0                                     0                 0              0                          0                0                 0              0               0              0               0                      0                    0              0                0                0              0                   0               0             0                   0                0                   0                0              0                0                          0               0                0                     0                0                     0                    0              0                 0             0                0               0               0   \n",
       "\n",
       "      country_Zimbabwe  country_eSwatini  \n",
       "0                    0                 0  \n",
       "1                    0                 0  \n",
       "10                   0                 0  \n",
       "100                  0                 0  \n",
       "1000                 0                 0  "
      ]
     },
     "execution_count": 17,
     "metadata": {},
     "output_type": "execute_result"
    }
   ],
   "source": [
    "labels_encoded.head()"
   ]
  },
  {
   "cell_type": "code",
   "execution_count": 18,
   "metadata": {
    "scrolled": false
   },
   "outputs": [],
   "source": [
    "pd.option_context('display.max_rows', None, 'display.max_columns', None)\n",
    "all_labels = pd.concat([labels, labels_encoded], axis=1, sort=False)\n",
    "# all_labels.iloc[2]"
   ]
  },
  {
   "cell_type": "code",
   "execution_count": 1,
   "metadata": {},
   "outputs": [
    {
     "ename": "NameError",
     "evalue": "name 'pd' is not defined",
     "output_type": "error",
     "traceback": [
      "\u001b[0;31m---------------------------------------------------------------------------\u001b[0m",
      "\u001b[0;31mNameError\u001b[0m                                 Traceback (most recent call last)",
      "\u001b[0;32m<ipython-input-1-34e133f21af0>\u001b[0m in \u001b[0;36m<module>\u001b[0;34m\u001b[0m\n\u001b[0;32m----> 1\u001b[0;31m \u001b[0mdf\u001b[0m \u001b[0;34m=\u001b[0m \u001b[0mpd\u001b[0m\u001b[0;34m.\u001b[0m\u001b[0mconcat\u001b[0m\u001b[0;34m(\u001b[0m\u001b[0;34m[\u001b[0m\u001b[0mdf\u001b[0m\u001b[0;34m,\u001b[0m \u001b[0mlabels_encoded\u001b[0m\u001b[0;34m]\u001b[0m\u001b[0;34m,\u001b[0m \u001b[0maxis\u001b[0m \u001b[0;34m=\u001b[0m \u001b[0;36m1\u001b[0m\u001b[0;34m,\u001b[0m \u001b[0msort\u001b[0m \u001b[0;34m=\u001b[0m \u001b[0;32mFalse\u001b[0m\u001b[0;34m)\u001b[0m\u001b[0;34m\u001b[0m\u001b[0m\n\u001b[0m\u001b[1;32m      2\u001b[0m \u001b[0;31m# df.iloc[1]\u001b[0m\u001b[0;34m\u001b[0m\u001b[0;34m\u001b[0m\u001b[0m\n",
      "\u001b[0;31mNameError\u001b[0m: name 'pd' is not defined"
     ]
    }
   ],
   "source": [
    "df = pd.concat([df, labels_encoded], axis = 1, sort = False)\n",
    "# df.iloc[1]"
   ]
  },
  {
   "cell_type": "markdown",
   "metadata": {},
   "source": [
    "## Plot data for a specific country\n",
    "- Resample all data by year\n",
    "- Reshape all data to plot it as background\n",
    "- Filter data by specific country, aggregate by year. \n",
    "- Plot data by specific country by year, with all the others for reference"
   ]
  },
  {
   "cell_type": "code",
   "execution_count": 20,
   "metadata": {},
   "outputs": [],
   "source": [
    "# Group by data by date, resample by year, set date as index\n",
    "all_data = df.groupby(['date'])['event_type'].count()\n",
    "all_data_year = all_data.resample('Y').sum()\n",
    "all_data_year.index = pd.to_datetime(all_data_year.index)"
   ]
  },
  {
   "cell_type": "code",
   "execution_count": 21,
   "metadata": {},
   "outputs": [
    {
     "data": {
      "text/plain": [
       "DatetimeIndex(['1997-12-31', '1998-12-31', '1999-12-31', '2000-12-31', '2001-12-31', '2002-12-31', '2003-12-31', '2004-12-31', '2005-12-31', '2006-12-31', '2007-12-31', '2008-12-31', '2009-12-31', '2010-12-31', '2011-12-31', '2012-12-31', '2013-12-31', '2014-12-31', '2015-12-31', '2016-12-31', '2017-12-31', '2018-12-31', '2019-12-31'], dtype='datetime64[ns]', name='date', freq='A-DEC')"
      ]
     },
     "execution_count": 21,
     "metadata": {},
     "output_type": "execute_result"
    }
   ],
   "source": [
    "all_data_year.index"
   ]
  },
  {
   "cell_type": "code",
   "execution_count": 22,
   "metadata": {},
   "outputs": [],
   "source": [
    "# Pivot table to display all data by country, year, event count\n",
    "\n",
    "all_countries = df.groupby(['year', 'country'])['event_type'].count().\\\n",
    "                reset_index(level=['year','country'])\n",
    "\n",
    "all_countries = pd.pivot_table(all_countries, index= 'year', columns='country', values = 'event_type')\n",
    "\n",
    "\n",
    "# Graph\n",
    "# plt.rcParams['figure.figsize'] = (20, 10)\n",
    "# all_countries.plot(subplots = False, style='-', alpha=0.3, color = 'gray')\n",
    "# plt.legend().remove()"
   ]
  },
  {
   "cell_type": "code",
   "execution_count": null,
   "metadata": {
    "scrolled": true
   },
   "outputs": [],
   "source": [
    "# print(worst_country.loc[worst_country['event_type'].idxmax()])\n",
    "# # print('\\n')\n",
    "# # print(worst_country.loc[worst_country['event_type'].min()])\n",
    "# print(worst_country.loc[worst_country['event_type'].max(level = 'year')])"
   ]
  },
  {
   "cell_type": "code",
   "execution_count": 23,
   "metadata": {},
   "outputs": [],
   "source": [
    "#Function to get data for one specific country.\n",
    "# Plot data in a timeline. \n",
    "\n",
    "def country_data(data, name_country = \"\"):\n",
    "    global df_country\n",
    "    try:\n",
    "        #Query and group data by specified country\n",
    "        df_country = data.query('country == \"{}\"'.format(name_country))      \n",
    "        fatalities = df_country.groupby(['date'])['fatalities'].sum()  \n",
    "        event_type = df_country.groupby(['date'])['event_type'].count()\n",
    "                \n",
    "        #matplotlib graph: All cases over time, rolling for country & total\n",
    "        plt.rcParams['figure.figsize'] = (20, 12)        \n",
    "        all_countries.plot(subplots=False, style='-', alpha=0.2, color = 'gray')\n",
    "        all_countries[name_country].plot(subplots=False, style='--', linewidth = 2, alpha=1, color = 'r')\n",
    "        plt.legend().remove()\n",
    "\n",
    "        print('{} of events in {} ({} fatalities) between January 1997 and October 2019'.\\\n",
    "              format(df_country['event_type'].count(), name_country, df_country.fatalities.sum()))\n",
    "        \n",
    "        print('\\n(Showing data from {} countries)'.format(all_countries.index.nunique()))\n",
    "              \n",
    "    except (NameError, KeyError) as e:\n",
    "        print('Error {}'.format(e))\n",
    "        pass\n"
   ]
  },
  {
   "cell_type": "code",
   "execution_count": 24,
   "metadata": {},
   "outputs": [
    {
     "name": "stdout",
     "output_type": "stream",
     "text": [
      "29465 of events in Somalia (49656 fatalities) between January 1997 and October 2019\n",
      "\n",
      "(Showing data from 23 countries)\n"
     ]
    },
    {
     "data": {
      "image/png": "[encoded data removed]",
      "text/plain": [
       "<Figure size 1440x864 with 1 Axes>"
      ]
     },
     "metadata": {
      "needs_background": "light"
     },
     "output_type": "display_data"
    }
   ],
   "source": [
    "country_data(df, 'Somalia')"
   ]
  },
  {
   "cell_type": "markdown",
   "metadata": {},
   "source": [
    "## ML models"
   ]
  },
  {
   "cell_type": "code",
   "execution_count": 25,
   "metadata": {},
   "outputs": [],
   "source": [
    "# Logistic Regression, K-Clustering\n",
    "# https://towardsdatascience.com/time-series-of-price-anomaly-detection-13586cd5ff46\n",
    "# All data, with encoded labels: df\n",
    "# All countries resampled by year, number of incidents: all_countries"
   ]
  },
  {
   "cell_type": "code",
   "execution_count": 26,
   "metadata": {},
   "outputs": [
    {
     "data": {
      "text/plain": [
       "False"
      ]
     },
     "execution_count": 26,
     "metadata": {},
     "output_type": "execute_result"
    }
   ],
   "source": [
    "#Check if the are any null values in data\n",
    "df.isnull().values.any()\n",
    "# print(df.isnull().sum())"
   ]
  },
  {
   "cell_type": "code",
   "execution_count": 27,
   "metadata": {},
   "outputs": [
    {
     "data": {
      "text/plain": [
       "count    143354.000000\n",
       "mean       2015.422067\n",
       "std           2.565267\n",
       "min        2010.000000\n",
       "25%        2013.000000\n",
       "50%        2016.000000\n",
       "75%        2018.000000\n",
       "max        2019.000000\n",
       "Name: year, dtype: float64"
      ]
     },
     "execution_count": 27,
     "metadata": {},
     "output_type": "execute_result"
    }
   ],
   "source": [
    "# Include data since 2010\n",
    "filtered_data = df[df.year > 2009]\n",
    "filtered_data['year'].describe()"
   ]
  },
  {
   "cell_type": "markdown",
   "metadata": {},
   "source": [
    "## K-clustering"
   ]
  },
  {
   "cell_type": "code",
   "execution_count": 28,
   "metadata": {},
   "outputs": [],
   "source": [
    "# Use k-clustering to detect anomalies\n",
    "from sklearn.cluster import KMeans"
   ]
  },
  {
   "cell_type": "code",
   "execution_count": 30,
   "metadata": {},
   "outputs": [
    {
     "data": {
      "text/plain": [
       "90"
      ]
     },
     "execution_count": 30,
     "metadata": {},
     "output_type": "execute_result"
    }
   ],
   "source": [
    "len(filtered_data.columns)"
   ]
  },
  {
   "cell_type": "code",
   "execution_count": 33,
   "metadata": {},
   "outputs": [
    {
     "data": {
      "text/plain": [
       "year                                                  2010\n",
       "fatalities                                               2\n",
       "fatalities_encoded                                       1\n",
       "event_type_Battles                                       0\n",
       "event_type_Explosions/Remote violence                    0\n",
       "event_type_Protests                                      0\n",
       "event_type_Riots                                         0\n",
       "event_type_Strategic developments                        0\n",
       "event_type_Violence against civilians                    1\n",
       "sub_event_type_Abduction/forced disappearance            0\n",
       "sub_event_type_Agreement                                 0\n",
       "sub_event_type_Air/drone strike                          0\n",
       "sub_event_type_Armed clash                               0\n",
       "sub_event_type_Arrests                                   0\n",
       "sub_event_type_Attack                                    1\n",
       "sub_event_type_Change to group/activity                  0\n",
       "sub_event_type_Chemical weapon                           0\n",
       "sub_event_type_Disrupted weapons use                     0\n",
       "sub_event_type_Excessive force against protesters        0\n",
       "sub_event_type_Government regains territory              0\n",
       "sub_event_type_Grenade                                   0\n",
       "sub_event_type_Headquarters or base established          0\n",
       "sub_event_type_Looting/property destruction              0\n",
       "sub_event_type_Mob violence                              0\n",
       "sub_event_type_Non-state actor overtakes territory       0\n",
       "sub_event_type_Non-violent transfer of territory         0\n",
       "sub_event_type_Other                                     0\n",
       "sub_event_type_Peaceful protest                          0\n",
       "sub_event_type_Protest with intervention                 0\n",
       "sub_event_type_Remote explosive/landmine/IED             0\n",
       "sub_event_type_Sexual violence                           0\n",
       "sub_event_type_Shelling/artillery/missile attack         0\n",
       "sub_event_type_Suicide bomb                              0\n",
       "sub_event_type_Violent demonstration                     0\n",
       "country_Algeria                                          0\n",
       "country_Angola                                           1\n",
       "country_Benin                                            0\n",
       "country_Botswana                                         0\n",
       "country_Burkina Faso                                     0\n",
       "country_Burundi                                          0\n",
       "country_Cameroon                                         0\n",
       "country_Central African Republic                         0\n",
       "country_Chad                                             0\n",
       "country_Democratic Republic of Congo                     0\n",
       "country_Djibouti                                         0\n",
       "country_Egypt                                            0\n",
       "country_Equatorial Guinea                                0\n",
       "country_Eritrea                                          0\n",
       "country_Ethiopia                                         0\n",
       "country_Gabon                                            0\n",
       "country_Gambia                                           0\n",
       "country_Ghana                                            0\n",
       "country_Guinea                                           0\n",
       "country_Guinea-Bissau                                    0\n",
       "country_Ivory Coast                                      0\n",
       "country_Kenya                                            0\n",
       "country_Lesotho                                          0\n",
       "country_Liberia                                          0\n",
       "country_Libya                                            0\n",
       "country_Madagascar                                       0\n",
       "country_Malawi                                           0\n",
       "country_Mali                                             0\n",
       "country_Mauritania                                       0\n",
       "country_Morocco                                          0\n",
       "country_Mozambique                                       0\n",
       "country_Namibia                                          0\n",
       "country_Niger                                            0\n",
       "country_Nigeria                                          0\n",
       "country_Republic of Congo                                0\n",
       "country_Rwanda                                           0\n",
       "country_Senegal                                          0\n",
       "country_Sierra Leone                                     0\n",
       "country_Somalia                                          0\n",
       "country_South Africa                                     0\n",
       "country_South Sudan                                      0\n",
       "country_Sudan                                            0\n",
       "country_Tanzania                                         0\n",
       "country_Togo                                             0\n",
       "country_Tunisia                                          0\n",
       "country_Uganda                                           0\n",
       "country_Zambia                                           0\n",
       "country_Zimbabwe                                         0\n",
       "country_eSwatini                                         0\n",
       "Name: 10050, dtype: object"
      ]
     },
     "execution_count": 33,
     "metadata": {},
     "output_type": "execute_result"
    }
   ],
   "source": [
    "# Select X values \n",
    "n = 90\n",
    "X = filtered_data.iloc[:,np.r_[0,7,9:n]]\n",
    "X.iloc[0]"
   ]
  },
  {
   "cell_type": "code",
   "execution_count": null,
   "metadata": {},
   "outputs": [],
   "source": [
    "# X.corr().style.background_gradient(cmap='coolwarm').set_precision(2)"
   ]
  },
  {
   "cell_type": "code",
   "execution_count": 34,
   "metadata": {},
   "outputs": [
    {
     "data": {
      "image/png": "[encoded data removed]",
      "text/plain": [
       "<Figure size 864x576 with 1 Axes>"
      ]
     },
     "metadata": {
      "needs_background": "light"
     },
     "output_type": "display_data"
    }
   ],
   "source": [
    "# Use elbow method to select number of clusters\n",
    "\n",
    "n_cluster = range(1, 30)\n",
    "kmeans = [KMeans(n_clusters=i).fit(X) for i in n_cluster]\n",
    "scores = [kmeans[i].score(X) for i in range(len(kmeans))]\n",
    "\n",
    "fig, ax = plt.subplots(figsize=(12,8))\n",
    "ax.plot(n_cluster, scores)\n",
    "plt.xlabel('Number of Clusters')\n",
    "plt.ylabel('Score')\n",
    "plt.title('Elbow Curve')\n",
    "plt.show()"
   ]
  },
  {
   "cell_type": "code",
   "execution_count": 35,
   "metadata": {},
   "outputs": [
    {
     "data": {
      "text/plain": [
       "KMeans(algorithm='auto', copy_x=True, init='k-means++', max_iter=300,\n",
       "    n_clusters=8, n_init=10, n_jobs=None, precompute_distances='auto',\n",
       "    random_state=None, tol=0.0001, verbose=0)"
      ]
     },
     "execution_count": 35,
     "metadata": {},
     "output_type": "execute_result"
    }
   ],
   "source": [
    "# K-clustering\n",
    "c = 8\n",
    "clusters = KMeans(n_clusters=c)\n",
    "clusters.fit(X)"
   ]
  },
  {
   "cell_type": "code",
   "execution_count": null,
   "metadata": {},
   "outputs": [],
   "source": [
    "#### PENDING #####\n",
    "# USE PCA TO FIND MAIN VARIABLES\n",
    "# https://jakevdp.github.io/PythonDataScienceHandbook/05.11-k-means.html\n",
    "# PLOT MAIN VARIABLES\n",
    "# https://towardsdatascience.com/pca-using-python-scikit-learn-e653f8989e60"
   ]
  },
  {
   "cell_type": "code",
   "execution_count": null,
   "metadata": {},
   "outputs": [],
   "source": [
    "filtered_data['group'] = clusters.predict(X)"
   ]
  },
  {
   "cell_type": "code",
   "execution_count": null,
   "metadata": {},
   "outputs": [],
   "source": [
    "filtered_data.group.unique()"
   ]
  },
  {
   "cell_type": "code",
   "execution_count": null,
   "metadata": {},
   "outputs": [],
   "source": [
    "# plt.scatter(filtered_data.fatalities, filtered_data.date, alpha = 0.1)\n",
    "# plt.scatter(group_0.date, group_0.fatalities, c='black', alpha=.3)"
   ]
  },
  {
   "cell_type": "code",
   "execution_count": null,
   "metadata": {},
   "outputs": [],
   "source": []
  }
 ],
 "metadata": {
  "kernelspec": {
   "display_name": "Python 3",
   "language": "python",
   "name": "python3"
  },
  "language_info": {
   "codemirror_mode": {
    "name": "ipython",
    "version": 3
   },
   "file_extension": ".py",
   "mimetype": "text/x-python",
   "name": "python",
   "nbconvert_exporter": "python",
   "pygments_lexer": "ipython3",
   "version": "3.7.0"
  }
 },
 "nbformat": 4,
 "nbformat_minor": 2
}
