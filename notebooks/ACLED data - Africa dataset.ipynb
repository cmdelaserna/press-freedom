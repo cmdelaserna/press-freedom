{
 "cells": [
  {
   "cell_type": "markdown",
   "metadata": {},
   "source": [
    "# Exploring ACLED data"
   ]
  },
  {
   "cell_type": "code",
   "execution_count": 1,
   "metadata": {},
   "outputs": [],
   "source": [
    "# African dataset\n",
    "# https://www.acleddata.com/curated-data-files/"
   ]
  },
  {
   "cell_type": "code",
   "execution_count": 34,
   "metadata": {},
   "outputs": [],
   "source": [
    "import pandas as pd\n",
    "from datetime import datetime\n",
    "import matplotlib.pyplot as plt\n",
    "import seaborn as sns"
   ]
  },
  {
   "cell_type": "markdown",
   "metadata": {},
   "source": [
    "## Exporting excel file as json"
   ]
  },
  {
   "cell_type": "code",
   "execution_count": 4,
   "metadata": {},
   "outputs": [],
   "source": [
    "# # import excel file\n",
    "# df = pd.read_excel('../data/Africa_1997-2019_Oct12-1.xlsx')"
   ]
  },
  {
   "cell_type": "code",
   "execution_count": 18,
   "metadata": {},
   "outputs": [],
   "source": [
    "# df.shape"
   ]
  },
  {
   "cell_type": "code",
   "execution_count": 13,
   "metadata": {},
   "outputs": [],
   "source": [
    "# # New column for date\n",
    "# df['date'] = pd.to_datetime(df['EVENT_DATE']).dt.date"
   ]
  },
  {
   "cell_type": "code",
   "execution_count": 15,
   "metadata": {},
   "outputs": [],
   "source": [
    "# # export dataframe as json\n",
    "# df.to_json('../data/africa-data.json')"
   ]
  },
  {
   "cell_type": "code",
   "execution_count": 16,
   "metadata": {},
   "outputs": [],
   "source": [
    "# df = pd.read_json('../data/africa-data.json')"
   ]
  },
  {
   "cell_type": "markdown",
   "metadata": {},
   "source": [
    "## Data formatting"
   ]
  },
  {
   "cell_type": "code",
   "execution_count": 20,
   "metadata": {},
   "outputs": [
    {
     "data": {
      "text/plain": [
       "ISO                                                                12\n",
       "EVENT_ID_CNTY                                                    ALG1\n",
       "EVENT_ID_NO_CNTY                                                    1\n",
       "EVENT_DATE                                               852076800000\n",
       "YEAR                                                             1997\n",
       "TIME_PRECISION                                                      1\n",
       "EVENT_TYPE                                 Violence against civilians\n",
       "SUB_EVENT_TYPE                                                 Attack\n",
       "ACTOR1                                       GIA: Armed Islamic Group\n",
       "ASSOC_ACTOR_1                                                    None\n",
       "INTER1                                                              2\n",
       "ACTOR2                                            Civilians (Algeria)\n",
       "ASSOC_ACTOR_2                                                    None\n",
       "INTER2                                                              7\n",
       "INTERACTION                                                        27\n",
       "REGION                                                Northern Africa\n",
       "COUNTRY                                                       Algeria\n",
       "ADMIN1                                                         Tipaza\n",
       "ADMIN2                                                       Douaouda\n",
       "ADMIN3                                                           None\n",
       "LOCATION                                                     Douaouda\n",
       "LATITUDE                                                       36.672\n",
       "LONGITUDE                                                       2.789\n",
       "GEO_PRECISION                                                       1\n",
       "SOURCE                                                  Algeria Watch\n",
       "SOURCE_SCALE                                                    Other\n",
       "NOTES               5 January: Beheading of 5 citizens in Douaouda...\n",
       "FATALITIES                                                          5\n",
       "TIMESTAMP                                         2019-09-02 22:08:55\n",
       "date                                              1997-01-01 00:00:00\n",
       "Name: 0, dtype: object"
      ]
     },
     "execution_count": 20,
     "metadata": {},
     "output_type": "execute_result"
    }
   ],
   "source": [
    "df.iloc[0]"
   ]
  },
  {
   "cell_type": "code",
   "execution_count": 22,
   "metadata": {},
   "outputs": [],
   "source": [
    "# columns to keep\n",
    "columns = ['YEAR', 'EVENT_TYPE', 'SUB_EVENT_TYPE', 'ACTOR1', 'REGION', 'COUNTRY', 'SOURCE', 'FATALITIES', 'date']"
   ]
  },
  {
   "cell_type": "code",
   "execution_count": 23,
   "metadata": {},
   "outputs": [
    {
     "data": {
      "text/html": [
       "<div>\n",
       "<style scoped>\n",
       "    .dataframe tbody tr th:only-of-type {\n",
       "        vertical-align: middle;\n",
       "    }\n",
       "\n",
       "    .dataframe tbody tr th {\n",
       "        vertical-align: top;\n",
       "    }\n",
       "\n",
       "    .dataframe thead th {\n",
       "        text-align: right;\n",
       "    }\n",
       "</style>\n",
       "<table border=\"1\" class=\"dataframe\">\n",
       "  <thead>\n",
       "    <tr style=\"text-align: right;\">\n",
       "      <th></th>\n",
       "      <th>YEAR</th>\n",
       "      <th>EVENT_TYPE</th>\n",
       "      <th>SUB_EVENT_TYPE</th>\n",
       "      <th>ACTOR1</th>\n",
       "      <th>REGION</th>\n",
       "      <th>COUNTRY</th>\n",
       "      <th>SOURCE</th>\n",
       "      <th>FATALITIES</th>\n",
       "      <th>date</th>\n",
       "    </tr>\n",
       "  </thead>\n",
       "  <tbody>\n",
       "    <tr>\n",
       "      <th>0</th>\n",
       "      <td>1997</td>\n",
       "      <td>Violence against civilians</td>\n",
       "      <td>Attack</td>\n",
       "      <td>GIA: Armed Islamic Group</td>\n",
       "      <td>Northern Africa</td>\n",
       "      <td>Algeria</td>\n",
       "      <td>Algeria Watch</td>\n",
       "      <td>5</td>\n",
       "      <td>1997-01-01</td>\n",
       "    </tr>\n",
       "    <tr>\n",
       "      <th>1</th>\n",
       "      <td>1997</td>\n",
       "      <td>Violence against civilians</td>\n",
       "      <td>Attack</td>\n",
       "      <td>GIA: Armed Islamic Group</td>\n",
       "      <td>Northern Africa</td>\n",
       "      <td>Algeria</td>\n",
       "      <td>Algeria Watch</td>\n",
       "      <td>2</td>\n",
       "      <td>1997-01-02</td>\n",
       "    </tr>\n",
       "    <tr>\n",
       "      <th>10</th>\n",
       "      <td>1997</td>\n",
       "      <td>Explosions/Remote violence</td>\n",
       "      <td>Remote explosive/landmine/IED</td>\n",
       "      <td>GIA: Armed Islamic Group</td>\n",
       "      <td>Northern Africa</td>\n",
       "      <td>Algeria</td>\n",
       "      <td>Algeria Watch</td>\n",
       "      <td>20</td>\n",
       "      <td>1997-01-07</td>\n",
       "    </tr>\n",
       "    <tr>\n",
       "      <th>100</th>\n",
       "      <td>1997</td>\n",
       "      <td>Explosions/Remote violence</td>\n",
       "      <td>Remote explosive/landmine/IED</td>\n",
       "      <td>GIA: Armed Islamic Group</td>\n",
       "      <td>Northern Africa</td>\n",
       "      <td>Algeria</td>\n",
       "      <td>Algeria Watch</td>\n",
       "      <td>13</td>\n",
       "      <td>1997-08-29</td>\n",
       "    </tr>\n",
       "    <tr>\n",
       "      <th>1000</th>\n",
       "      <td>2003</td>\n",
       "      <td>Violence against civilians</td>\n",
       "      <td>Abduction/forced disappearance</td>\n",
       "      <td>GSPC: Salafist Group for Call and Combat</td>\n",
       "      <td>Northern Africa</td>\n",
       "      <td>Algeria</td>\n",
       "      <td>AFP</td>\n",
       "      <td>0</td>\n",
       "      <td>2003-03-08</td>\n",
       "    </tr>\n",
       "  </tbody>\n",
       "</table>\n",
       "</div>"
      ],
      "text/plain": [
       "      YEAR                  EVENT_TYPE                  SUB_EVENT_TYPE  \\\n",
       "0     1997  Violence against civilians                          Attack   \n",
       "1     1997  Violence against civilians                          Attack   \n",
       "10    1997  Explosions/Remote violence   Remote explosive/landmine/IED   \n",
       "100   1997  Explosions/Remote violence   Remote explosive/landmine/IED   \n",
       "1000  2003  Violence against civilians  Abduction/forced disappearance   \n",
       "\n",
       "                                        ACTOR1           REGION  COUNTRY  \\\n",
       "0                     GIA: Armed Islamic Group  Northern Africa  Algeria   \n",
       "1                     GIA: Armed Islamic Group  Northern Africa  Algeria   \n",
       "10                    GIA: Armed Islamic Group  Northern Africa  Algeria   \n",
       "100                   GIA: Armed Islamic Group  Northern Africa  Algeria   \n",
       "1000  GSPC: Salafist Group for Call and Combat  Northern Africa  Algeria   \n",
       "\n",
       "             SOURCE  FATALITIES       date  \n",
       "0     Algeria Watch           5 1997-01-01  \n",
       "1     Algeria Watch           2 1997-01-02  \n",
       "10    Algeria Watch          20 1997-01-07  \n",
       "100   Algeria Watch          13 1997-08-29  \n",
       "1000            AFP           0 2003-03-08  "
      ]
     },
     "execution_count": 23,
     "metadata": {},
     "output_type": "execute_result"
    }
   ],
   "source": [
    "df = df[columns]\n",
    "df.head()"
   ]
  },
  {
   "cell_type": "markdown",
   "metadata": {},
   "source": [
    "## Data exploration"
   ]
  },
  {
   "cell_type": "code",
   "execution_count": 24,
   "metadata": {},
   "outputs": [
    {
     "name": "stdout",
     "output_type": "stream",
     "text": [
      "Event types: ['Violence against civilians' 'Explosions/Remote violence'\n",
      " 'Strategic developments' 'Battles' 'Protests' 'Riots']\n",
      "\n",
      "Event subtypes: ['Attack' 'Remote explosive/landmine/IED' 'Abduction/forced disappearance'\n",
      " 'Non-violent transfer of territory' 'Armed clash'\n",
      " 'Looting/property destruction' 'Headquarters or base established'\n",
      " 'Peaceful protest' 'Non-state actor overtakes territory'\n",
      " 'Government regains territory' 'Protest with intervention'\n",
      " 'Change to group/activity' 'Mob violence' 'Violent demonstration'\n",
      " 'Sexual violence' 'Arrests' 'Air/drone strike'\n",
      " 'Shelling/artillery/missile attack' 'Disrupted weapons use'\n",
      " 'Excessive force against protesters' 'Agreement' 'Other' 'Grenade'\n",
      " 'Suicide bomb' 'Chemical weapon']\n"
     ]
    }
   ],
   "source": [
    "print('Event types: {}\\n'.format(df['EVENT_TYPE'].unique()))\n",
    "print('Event subtypes: {}'.format(df['SUB_EVENT_TYPE'].unique()))"
   ]
  },
  {
   "cell_type": "code",
   "execution_count": 41,
   "metadata": {},
   "outputs": [
    {
     "data": {
      "text/plain": [
       "<BarContainer object of 6 artists>"
      ]
     },
     "execution_count": 41,
     "metadata": {},
     "output_type": "execute_result"
    },
    {
     "data": {
      "image/png": "[encoded data removed]",
      "text/plain": [
       "<Figure size 432x288 with 1 Axes>"
      ]
     },
     "metadata": {
      "needs_background": "light"
     },
     "output_type": "display_data"
    }
   ],
   "source": [
    "event_type = df.groupby(['EVENT_TYPE'])['EVENT_TYPE'].count()\n",
    "x = event_type.index\n",
    "y = event_type.values\n",
    "\n",
    "plt.bar(x, y)"
   ]
  },
  {
   "cell_type": "code",
   "execution_count": null,
   "metadata": {},
   "outputs": [],
   "source": [
    "# Plotting time series\n",
    "# https://www.kaggle.com/lordkada/acled-simple-analysis\n",
    "\n",
    "event_type = df.groupby(['EVENT_DATE'])['EVENT_TYPE'].count()\n",
    "event_type.plot(subplots=True, figsize=(20, 10), style='.', alpha=0.5)"
   ]
  },
  {
   "cell_type": "code",
   "execution_count": null,
   "metadata": {},
   "outputs": [],
   "source": [
    "year = df.groupby(['YEAR'])['EVENT_TYPE'].count()\n",
    "year.plot(kind='bar', color = 'gray', figsize=(20, 10))"
   ]
  },
  {
   "cell_type": "code",
   "execution_count": null,
   "metadata": {},
   "outputs": [],
   "source": [
    "country = df.groupby(['COUNTRY'])['EVENT_TYPE'].count()\n",
    "country.plot(kind='bar', color = 'gray', figsize=(20, 10))"
   ]
  },
  {
   "cell_type": "code",
   "execution_count": null,
   "metadata": {},
   "outputs": [],
   "source": []
  }
 ],
 "metadata": {
  "kernelspec": {
   "display_name": "Python 3",
   "language": "python",
   "name": "python3"
  },
  "language_info": {
   "codemirror_mode": {
    "name": "ipython",
    "version": 3
   },
   "file_extension": ".py",
   "mimetype": "text/x-python",
   "name": "python",
   "nbconvert_exporter": "python",
   "pygments_lexer": "ipython3",
   "version": "3.7.3"
  }
 },
 "nbformat": 4,
 "nbformat_minor": 2
}
