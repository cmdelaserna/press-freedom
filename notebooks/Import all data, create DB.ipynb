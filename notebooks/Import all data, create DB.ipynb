{
 "cells": [
  {
   "cell_type": "code",
   "execution_count": 1,
   "metadata": {},
   "outputs": [],
   "source": [
    "import os\n",
    "import pandas as pd\n",
    "from datetime import datetime\n",
    "import matplotlib.pyplot as plt\n",
    "import numpy as np\n",
    "import sqlite3"
   ]
  },
  {
   "cell_type": "code",
   "execution_count": 2,
   "metadata": {},
   "outputs": [],
   "source": [
    "# Display non-truncated info in dataframes\n",
    "pd.set_option('display.max_colwidth', -1)"
   ]
  },
  {
   "cell_type": "markdown",
   "metadata": {},
   "source": [
    "## Data import"
   ]
  },
  {
   "cell_type": "code",
   "execution_count": 3,
   "metadata": {},
   "outputs": [
    {
     "data": {
      "text/plain": [
       "(621082, 31)"
      ]
     },
     "execution_count": 3,
     "metadata": {},
     "output_type": "execute_result"
    }
   ],
   "source": [
    "# Data exported from: https://www.acleddata.com/data/\n",
    "\n",
    "df = pd.read_csv('../data/1997-01-01-2019-11-06.csv')\n",
    "df.shape"
   ]
  },
  {
   "cell_type": "markdown",
   "metadata": {},
   "source": [
    "### Basic exploration of dataset"
   ]
  },
  {
   "cell_type": "code",
   "execution_count": 6,
   "metadata": {},
   "outputs": [],
   "source": [
    "# df.info()"
   ]
  },
  {
   "cell_type": "code",
   "execution_count": 7,
   "metadata": {},
   "outputs": [],
   "source": [
    "# df.iloc[0]"
   ]
  },
  {
   "cell_type": "code",
   "execution_count": 8,
   "metadata": {},
   "outputs": [
    {
     "data": {
      "text/plain": [
       "country           Cambodia                                                                                                                                                                                                                                                                                                                        \n",
       "notes             As of 2 November 2019, at least 49 CNRP activists have been arrested in an ongoing crackdown by the Cambodian government. Arrests have been made in Phnom Penh, Chbar Mon (Kampong Speu), Kampong Cham, Paoy Paet (Banteay Meanchey), Batheay (Kampong Cham), Banlung (Ratanak Kiri), Kandal, Kampot and Keo Siema (Mondulkiri).\n",
       "event_date        02 November 2019                                                                                                                                                                                                                                                                                                                \n",
       "source            Khmer Times; Phnom Penh Post; Voice of Democracy (Cambodia); Radio Free Asia                                                                                                                                                                                                                                                    \n",
       "event_type        Strategic developments                                                                                                                                                                                                                                                                                                          \n",
       "sub_event_type    Arrests                                                                                                                                                                                                                                                                                                                         \n",
       "region            South-Eastern Asia                                                                                                                                                                                                                                                                                                              \n",
       "fatalities        0                                                                                                                                                                                                                                                                                                                               \n",
       "Name: 0, dtype: object"
      ]
     },
     "execution_count": 8,
     "metadata": {},
     "output_type": "execute_result"
    }
   ],
   "source": [
    "df.iloc[0][['country', 'notes', 'event_date', 'source', 'event_type', 'sub_event_type', 'region', 'fatalities']]"
   ]
  },
  {
   "cell_type": "code",
   "execution_count": 9,
   "metadata": {},
   "outputs": [
    {
     "data": {
      "text/plain": [
       "dtype('int64')"
      ]
     },
     "execution_count": 9,
     "metadata": {},
     "output_type": "execute_result"
    }
   ],
   "source": [
    "df.year.dtypes"
   ]
  },
  {
   "cell_type": "code",
   "execution_count": 10,
   "metadata": {},
   "outputs": [
    {
     "data": {
      "text/plain": [
       "8"
      ]
     },
     "execution_count": 10,
     "metadata": {},
     "output_type": "execute_result"
    }
   ],
   "source": [
    "# Filter: Count 'strategic developments' incidents documented in Cambodia in 2019\n",
    "len(df[(df.event_type == 'Strategic developments') & (df.year == 2019) & (df.country == 'Cambodia')])"
   ]
  },
  {
   "cell_type": "code",
   "execution_count": 11,
   "metadata": {},
   "outputs": [
    {
     "data": {
      "text/plain": [
       "100"
      ]
     },
     "execution_count": 11,
     "metadata": {},
     "output_type": "execute_result"
    }
   ],
   "source": [
    "# Number of countries in database in 2019\n",
    "countries_2019 = df[df.year == 2019]\n",
    "countries_2019.country.nunique()"
   ]
  },
  {
   "cell_type": "markdown",
   "metadata": {},
   "source": [
    "## Format database"
   ]
  },
  {
   "cell_type": "code",
   "execution_count": 12,
   "metadata": {},
   "outputs": [
    {
     "data": {
      "text/plain": [
       "(621082, 10)"
      ]
     },
     "execution_count": 12,
     "metadata": {},
     "output_type": "execute_result"
    }
   ],
   "source": [
    "columns = ['data_id', 'event_date',\\\n",
    "           'year', 'event_type', 'notes',\\\n",
    "           'source', 'country','sub_event_type', 'region', 'fatalities' ]\n",
    "\n",
    "df = df[columns]\n",
    "df.shape"
   ]
  },
  {
   "cell_type": "code",
   "execution_count": 13,
   "metadata": {},
   "outputs": [],
   "source": [
    "# New column for date\n",
    "df['date'] = pd.to_datetime(df['event_date'])"
   ]
  },
  {
   "cell_type": "code",
   "execution_count": 14,
   "metadata": {},
   "outputs": [],
   "source": [
    "# Year column format\n",
    "df['year'] = df['date'].dt.year"
   ]
  },
  {
   "cell_type": "code",
   "execution_count": 15,
   "metadata": {},
   "outputs": [
    {
     "data": {
      "text/plain": [
       "0         2019\n",
       "1         2019\n",
       "2         2019\n",
       "3         2019\n",
       "4         2019\n",
       "5         2019\n",
       "6         2019\n",
       "7         2019\n",
       "8         2019\n",
       "9         2019\n",
       "10        2019\n",
       "11        2019\n",
       "12        2019\n",
       "13        2019\n",
       "14        2019\n",
       "15        2019\n",
       "16        2019\n",
       "17        2019\n",
       "18        2019\n",
       "19        2019\n",
       "20        2019\n",
       "21        2019\n",
       "22        2019\n",
       "23        2019\n",
       "24        2019\n",
       "25        2019\n",
       "26        2019\n",
       "27        2019\n",
       "28        2019\n",
       "29        2019\n",
       "          ... \n",
       "621052    1997\n",
       "621053    1997\n",
       "621054    1997\n",
       "621055    1997\n",
       "621056    1997\n",
       "621057    1997\n",
       "621058    1997\n",
       "621059    1997\n",
       "621060    1997\n",
       "621061    1997\n",
       "621062    1997\n",
       "621063    1997\n",
       "621064    1997\n",
       "621065    1997\n",
       "621066    1997\n",
       "621067    1997\n",
       "621068    1997\n",
       "621069    1997\n",
       "621070    1997\n",
       "621071    1997\n",
       "621072    1997\n",
       "621073    1997\n",
       "621074    1997\n",
       "621075    1997\n",
       "621076    1997\n",
       "621077    1997\n",
       "621078    1997\n",
       "621079    1997\n",
       "621080    1997\n",
       "621081    1997\n",
       "Name: year, Length: 621082, dtype: int64"
      ]
     },
     "execution_count": 15,
     "metadata": {},
     "output_type": "execute_result"
    }
   ],
   "source": [
    "df.year"
   ]
  },
  {
   "cell_type": "code",
   "execution_count": 16,
   "metadata": {},
   "outputs": [],
   "source": [
    "# Set index, sort\n",
    "df = df.set_index(['date'])\n",
    "df.sort_values('date', inplace=True)"
   ]
  },
  {
   "cell_type": "code",
   "execution_count": 17,
   "metadata": {},
   "outputs": [
    {
     "data": {
      "text/html": [
       "<div>\n",
       "<style scoped>\n",
       "    .dataframe tbody tr th:only-of-type {\n",
       "        vertical-align: middle;\n",
       "    }\n",
       "\n",
       "    .dataframe tbody tr th {\n",
       "        vertical-align: top;\n",
       "    }\n",
       "\n",
       "    .dataframe thead th {\n",
       "        text-align: right;\n",
       "    }\n",
       "</style>\n",
       "<table border=\"1\" class=\"dataframe\">\n",
       "  <thead>\n",
       "    <tr style=\"text-align: right;\">\n",
       "      <th></th>\n",
       "      <th>data_id</th>\n",
       "      <th>event_date</th>\n",
       "      <th>year</th>\n",
       "      <th>event_type</th>\n",
       "      <th>notes</th>\n",
       "      <th>source</th>\n",
       "      <th>country</th>\n",
       "      <th>sub_event_type</th>\n",
       "      <th>region</th>\n",
       "      <th>fatalities</th>\n",
       "    </tr>\n",
       "    <tr>\n",
       "      <th>date</th>\n",
       "      <th></th>\n",
       "      <th></th>\n",
       "      <th></th>\n",
       "      <th></th>\n",
       "      <th></th>\n",
       "      <th></th>\n",
       "      <th></th>\n",
       "      <th></th>\n",
       "      <th></th>\n",
       "      <th></th>\n",
       "    </tr>\n",
       "  </thead>\n",
       "  <tbody>\n",
       "    <tr>\n",
       "      <th>1997-01-01</th>\n",
       "      <td>6284959</td>\n",
       "      <td>01 January 1997</td>\n",
       "      <td>1997</td>\n",
       "      <td>Battles</td>\n",
       "      <td>Security forces kill a rebel officer who had been disrupting security in the region of Cyangugu.</td>\n",
       "      <td>Local Source</td>\n",
       "      <td>Rwanda</td>\n",
       "      <td>Armed clash</td>\n",
       "      <td>Eastern Africa</td>\n",
       "      <td>1</td>\n",
       "    </tr>\n",
       "    <tr>\n",
       "      <th>1997-01-01</th>\n",
       "      <td>5760768</td>\n",
       "      <td>01 January 1997</td>\n",
       "      <td>1997</td>\n",
       "      <td>Violence against civilians</td>\n",
       "      <td>The total number of chiefs in the past 6 months assassinated in this province=10</td>\n",
       "      <td>Diario de Noticias (Angola)</td>\n",
       "      <td>Angola</td>\n",
       "      <td>Attack</td>\n",
       "      <td>Middle Africa</td>\n",
       "      <td>10</td>\n",
       "    </tr>\n",
       "    <tr>\n",
       "      <th>1997-01-01</th>\n",
       "      <td>5016294</td>\n",
       "      <td>01 January 1997</td>\n",
       "      <td>1997</td>\n",
       "      <td>Violence against civilians</td>\n",
       "      <td>30 cadavers found October 14</td>\n",
       "      <td>Angola Cronologia</td>\n",
       "      <td>Angola</td>\n",
       "      <td>Attack</td>\n",
       "      <td>Middle Africa</td>\n",
       "      <td>30</td>\n",
       "    </tr>\n",
       "    <tr>\n",
       "      <th>1997-01-01</th>\n",
       "      <td>5016300</td>\n",
       "      <td>01 January 1997</td>\n",
       "      <td>1997</td>\n",
       "      <td>Battles</td>\n",
       "      <td>4 deaths reported, denied by both sides, anti-patasse side supported by moise kette of chad</td>\n",
       "      <td>All Africa</td>\n",
       "      <td>Central African Republic</td>\n",
       "      <td>Armed clash</td>\n",
       "      <td>Middle Africa</td>\n",
       "      <td>2</td>\n",
       "    </tr>\n",
       "    <tr>\n",
       "      <th>1997-01-01</th>\n",
       "      <td>5768186</td>\n",
       "      <td>01 January 1997</td>\n",
       "      <td>1997</td>\n",
       "      <td>Battles</td>\n",
       "      <td>Fighting between NDA rebels and Sudanese government forces is underway after an attack last week</td>\n",
       "      <td>Inter Press Service</td>\n",
       "      <td>Sudan</td>\n",
       "      <td>Armed clash</td>\n",
       "      <td>Northern Africa</td>\n",
       "      <td>0</td>\n",
       "    </tr>\n",
       "  </tbody>\n",
       "</table>\n",
       "</div>"
      ],
      "text/plain": [
       "            data_id       event_date  year                  event_type  \\\n",
       "date                                                                     \n",
       "1997-01-01  6284959  01 January 1997  1997  Battles                      \n",
       "1997-01-01  5760768  01 January 1997  1997  Violence against civilians   \n",
       "1997-01-01  5016294  01 January 1997  1997  Violence against civilians   \n",
       "1997-01-01  5016300  01 January 1997  1997  Battles                      \n",
       "1997-01-01  5768186  01 January 1997  1997  Battles                      \n",
       "\n",
       "                                                                                                       notes  \\\n",
       "date                                                                                                           \n",
       "1997-01-01  Security forces kill a rebel officer who had been disrupting security in the region of Cyangugu.   \n",
       "1997-01-01  The total number of chiefs in the past 6 months assassinated in this province=10                   \n",
       "1997-01-01  30 cadavers found October 14                                                                       \n",
       "1997-01-01  4 deaths reported, denied by both sides, anti-patasse side supported by moise kette of chad        \n",
       "1997-01-01  Fighting between NDA rebels and Sudanese government forces is underway after an attack last week   \n",
       "\n",
       "                                 source                   country  \\\n",
       "date                                                                \n",
       "1997-01-01  Local Source                 Rwanda                     \n",
       "1997-01-01  Diario de Noticias (Angola)  Angola                     \n",
       "1997-01-01  Angola Cronologia            Angola                     \n",
       "1997-01-01  All Africa                   Central African Republic   \n",
       "1997-01-01  Inter Press Service          Sudan                      \n",
       "\n",
       "           sub_event_type           region  fatalities  \n",
       "date                                                    \n",
       "1997-01-01  Armed clash    Eastern Africa   1           \n",
       "1997-01-01  Attack         Middle Africa    10          \n",
       "1997-01-01  Attack         Middle Africa    30          \n",
       "1997-01-01  Armed clash    Middle Africa    2           \n",
       "1997-01-01  Armed clash    Northern Africa  0           "
      ]
     },
     "execution_count": 17,
     "metadata": {},
     "output_type": "execute_result"
    }
   ],
   "source": [
    "df.head()"
   ]
  },
  {
   "cell_type": "code",
   "execution_count": 18,
   "metadata": {},
   "outputs": [],
   "source": [
    "#Filter range\n",
    "df_since_2010 = df.loc['2010-01-01':'2019-11-02']"
   ]
  },
  {
   "cell_type": "code",
   "execution_count": 19,
   "metadata": {},
   "outputs": [
    {
     "name": "stdout",
     "output_type": "stream",
     "text": [
      "<class 'pandas.core.frame.DataFrame'>\n",
      "DatetimeIndex: 570871 entries, 2010-01-01 to 2019-11-02\n",
      "Data columns (total 10 columns):\n",
      "data_id           570871 non-null int64\n",
      "event_date        570871 non-null object\n",
      "year              570871 non-null int64\n",
      "event_type        570871 non-null object\n",
      "notes             570851 non-null object\n",
      "source            570871 non-null object\n",
      "country           570871 non-null object\n",
      "sub_event_type    570871 non-null object\n",
      "region            570871 non-null object\n",
      "fatalities        570871 non-null int64\n",
      "dtypes: int64(3), object(7)\n",
      "memory usage: 47.9+ MB\n"
     ]
    }
   ],
   "source": [
    "df_since_2010.info()"
   ]
  },
  {
   "cell_type": "markdown",
   "metadata": {},
   "source": [
    "## Create sqlite db"
   ]
  },
  {
   "cell_type": "code",
   "execution_count": 20,
   "metadata": {},
   "outputs": [
    {
     "name": "stdout",
     "output_type": "stream",
     "text": [
      "Error\n"
     ]
    }
   ],
   "source": [
    "path_to_db = os.path.abspath('../data/working_data')\n",
    "\n",
    "try: \n",
    "    os.mkdir(path_to_db)\n",
    "except:\n",
    "    pass\n",
    "    print('Error')"
   ]
  },
  {
   "cell_type": "code",
   "execution_count": 21,
   "metadata": {},
   "outputs": [
    {
     "data": {
      "text/plain": [
       "<sqlite3.Connection at 0x129135810>"
      ]
     },
     "execution_count": 21,
     "metadata": {},
     "output_type": "execute_result"
    }
   ],
   "source": [
    "# Create and connect to db\n",
    "conn = sqlite3.connect('../data/working_data/working-database.db')\n",
    "conn"
   ]
  },
  {
   "cell_type": "code",
   "execution_count": 22,
   "metadata": {},
   "outputs": [
    {
     "name": "stdout",
     "output_type": "stream",
     "text": [
      "CPU times: user 3.17 s, sys: 331 ms, total: 3.51 s\n",
      "Wall time: 3.69 s\n"
     ]
    }
   ],
   "source": [
    "# upload df_since_2010 to database\n",
    "%time df_since_2010.to_sql('all_incidents', con=conn)"
   ]
  },
  {
   "cell_type": "code",
   "execution_count": 23,
   "metadata": {},
   "outputs": [
    {
     "data": {
      "text/html": [
       "<div>\n",
       "<style scoped>\n",
       "    .dataframe tbody tr th:only-of-type {\n",
       "        vertical-align: middle;\n",
       "    }\n",
       "\n",
       "    .dataframe tbody tr th {\n",
       "        vertical-align: top;\n",
       "    }\n",
       "\n",
       "    .dataframe thead th {\n",
       "        text-align: right;\n",
       "    }\n",
       "</style>\n",
       "<table border=\"1\" class=\"dataframe\">\n",
       "  <thead>\n",
       "    <tr style=\"text-align: right;\">\n",
       "      <th></th>\n",
       "      <th>seq</th>\n",
       "      <th>name</th>\n",
       "      <th>unique</th>\n",
       "      <th>origin</th>\n",
       "      <th>partial</th>\n",
       "    </tr>\n",
       "  </thead>\n",
       "  <tbody>\n",
       "    <tr>\n",
       "      <th>0</th>\n",
       "      <td>0</td>\n",
       "      <td>ix_all_incidents_date</td>\n",
       "      <td>0</td>\n",
       "      <td>c</td>\n",
       "      <td>0</td>\n",
       "    </tr>\n",
       "  </tbody>\n",
       "</table>\n",
       "</div>"
      ],
      "text/plain": [
       "   seq                   name  unique origin  partial\n",
       "0  0    ix_all_incidents_date  0       c      0      "
      ]
     },
     "execution_count": 23,
     "metadata": {},
     "output_type": "execute_result"
    }
   ],
   "source": [
    "# get indexes\n",
    "pd.read_sql_query(\"PRAGMA index_list(all_incidents);\", conn)"
   ]
  },
  {
   "cell_type": "code",
   "execution_count": 24,
   "metadata": {},
   "outputs": [
    {
     "name": "stdout",
     "output_type": "stream",
     "text": [
      "CPU times: user 170 ms, sys: 51.3 ms, total: 221 ms\n",
      "Wall time: 222 ms\n"
     ]
    },
    {
     "data": {
      "text/html": [
       "<div>\n",
       "<style scoped>\n",
       "    .dataframe tbody tr th:only-of-type {\n",
       "        vertical-align: middle;\n",
       "    }\n",
       "\n",
       "    .dataframe tbody tr th {\n",
       "        vertical-align: top;\n",
       "    }\n",
       "\n",
       "    .dataframe thead th {\n",
       "        text-align: right;\n",
       "    }\n",
       "</style>\n",
       "<table border=\"1\" class=\"dataframe\">\n",
       "  <thead>\n",
       "    <tr style=\"text-align: right;\">\n",
       "      <th></th>\n",
       "      <th>date</th>\n",
       "      <th>data_id</th>\n",
       "      <th>event_date</th>\n",
       "      <th>year</th>\n",
       "      <th>event_type</th>\n",
       "      <th>notes</th>\n",
       "      <th>source</th>\n",
       "      <th>country</th>\n",
       "      <th>sub_event_type</th>\n",
       "      <th>region</th>\n",
       "      <th>fatalities</th>\n",
       "    </tr>\n",
       "  </thead>\n",
       "  <tbody>\n",
       "    <tr>\n",
       "      <th>0</th>\n",
       "      <td>2010-01-01 00:00:00</td>\n",
       "      <td>6304109</td>\n",
       "      <td>01 January 2010</td>\n",
       "      <td>2010</td>\n",
       "      <td>Battles</td>\n",
       "      <td>Fighters loyal to Hisb Al-Islam group reportedly killed seven people in Toorotoorow District of Lower Shabeelle Region after clashing with local militia in the town. Sources say that most of those who died in the fighting were civilians living in the area of the fighting.</td>\n",
       "      <td>Radio Gaalkacyo</td>\n",
       "      <td>Somalia</td>\n",
       "      <td>Armed clash</td>\n",
       "      <td>Eastern Africa</td>\n",
       "      <td>7</td>\n",
       "    </tr>\n",
       "    <tr>\n",
       "      <th>1</th>\n",
       "      <td>2010-01-01 00:00:00</td>\n",
       "      <td>6309080</td>\n",
       "      <td>01 January 2010</td>\n",
       "      <td>2010</td>\n",
       "      <td>Explosions/Remote violence</td>\n",
       "      <td>At least 5 people have been killed and more others have been wounded in parts of the Somali capital Mogadishu after heavy shelling landed into several areas in the capital.</td>\n",
       "      <td>Shabelle Media Network</td>\n",
       "      <td>Somalia</td>\n",
       "      <td>Shelling/artillery/missile attack</td>\n",
       "      <td>Eastern Africa</td>\n",
       "      <td>2</td>\n",
       "    </tr>\n",
       "    <tr>\n",
       "      <th>2</th>\n",
       "      <td>2010-01-02 00:00:00</td>\n",
       "      <td>5764547</td>\n",
       "      <td>02 January 2010</td>\n",
       "      <td>2010</td>\n",
       "      <td>Strategic developments</td>\n",
       "      <td>Property destruction: Al Shabaab forces in Merka set fire on three hundred sacks of maize and beans that they confiscated from a WFP owned warehouse in Merka. They claimed that the food were contaminated and not fit for human consumption. Retrieved www on 03/01/2010, http://www.hiiraan.com/news2/2010/jan/somali_extremists_scorch_food_aid.aspx O3/Al Shabaab WFP /(0/10)/ (00)/ Merka/Lower Shabelle/Somalia/ 20100104.298</td>\n",
       "      <td>Hiiraan (Somalia)</td>\n",
       "      <td>Somalia</td>\n",
       "      <td>Looting/property destruction</td>\n",
       "      <td>Eastern Africa</td>\n",
       "      <td>0</td>\n",
       "    </tr>\n",
       "    <tr>\n",
       "      <th>3</th>\n",
       "      <td>2010-01-02 00:00:00</td>\n",
       "      <td>6267562</td>\n",
       "      <td>02 January 2010</td>\n",
       "      <td>2010</td>\n",
       "      <td>Battles</td>\n",
       "      <td>Somalias Al Shabaab insurgent group has reportedly seized the control of central town of Dhusamareb, the capital of Galgadud region. Local residents report that dozens have been killed in the fighting.</td>\n",
       "      <td>Garowe Online</td>\n",
       "      <td>Somalia</td>\n",
       "      <td>Armed clash</td>\n",
       "      <td>Eastern Africa</td>\n",
       "      <td>12</td>\n",
       "    </tr>\n",
       "    <tr>\n",
       "      <th>4</th>\n",
       "      <td>2010-01-02 00:00:00</td>\n",
       "      <td>4966071</td>\n",
       "      <td>02 January 2010</td>\n",
       "      <td>2010</td>\n",
       "      <td>Battles</td>\n",
       "      <td>At least three people have died and four others wounded in a heavy fighting between Hisb Al-Islam group and pro-government forces at Ceel-gaal area. Both sides are reported to have exchanged heavy weapons, mortars and cannons prompting pastoralists in the area to vacate from their residences.</td>\n",
       "      <td>All Africa</td>\n",
       "      <td>Somalia</td>\n",
       "      <td>Armed clash</td>\n",
       "      <td>Eastern Africa</td>\n",
       "      <td>3</td>\n",
       "    </tr>\n",
       "  </tbody>\n",
       "</table>\n",
       "</div>"
      ],
      "text/plain": [
       "                  date  data_id       event_date  year  \\\n",
       "0  2010-01-01 00:00:00  6304109  01 January 2010  2010   \n",
       "1  2010-01-01 00:00:00  6309080  01 January 2010  2010   \n",
       "2  2010-01-02 00:00:00  5764547  02 January 2010  2010   \n",
       "3  2010-01-02 00:00:00  6267562  02 January 2010  2010   \n",
       "4  2010-01-02 00:00:00  4966071  02 January 2010  2010   \n",
       "\n",
       "                   event_type  \\\n",
       "0  Battles                      \n",
       "1  Explosions/Remote violence   \n",
       "2  Strategic developments       \n",
       "3  Battles                      \n",
       "4  Battles                      \n",
       "\n",
       "                                                                                                                                                                                                                                                                                                                                                                                                                                  notes  \\\n",
       "0  Fighters loyal to Hisb Al-Islam group reportedly killed seven people in Toorotoorow District of Lower Shabeelle Region after clashing with local militia in the town. Sources say that most of those who died in the fighting were civilians living in the area of the fighting.                                                                                                                                                       \n",
       "1  At least 5 people have been killed and more others have been wounded in parts of the Somali capital Mogadishu after heavy shelling landed into several areas in the capital.                                                                                                                                                                                                                                                           \n",
       "2  Property destruction: Al Shabaab forces in Merka set fire on three hundred sacks of maize and beans that they confiscated from a WFP owned warehouse in Merka. They claimed that the food were contaminated and not fit for human consumption. Retrieved www on 03/01/2010, http://www.hiiraan.com/news2/2010/jan/somali_extremists_scorch_food_aid.aspx O3/Al Shabaab WFP /(0/10)/ (00)/ Merka/Lower Shabelle/Somalia/ 20100104.298   \n",
       "3  Somalias Al Shabaab insurgent group has reportedly seized the control of central town of Dhusamareb, the capital of Galgadud region. Local residents report that dozens have been killed in the fighting.                                                                                                                                                                                                                              \n",
       "4  At least three people have died and four others wounded in a heavy fighting between Hisb Al-Islam group and pro-government forces at Ceel-gaal area. Both sides are reported to have exchanged heavy weapons, mortars and cannons prompting pastoralists in the area to vacate from their residences.                                                                                                                                  \n",
       "\n",
       "                   source  country                     sub_event_type  \\\n",
       "0  Radio Gaalkacyo         Somalia  Armed clash                         \n",
       "1  Shabelle Media Network  Somalia  Shelling/artillery/missile attack   \n",
       "2  Hiiraan (Somalia)       Somalia  Looting/property destruction        \n",
       "3  Garowe Online           Somalia  Armed clash                         \n",
       "4  All Africa              Somalia  Armed clash                         \n",
       "\n",
       "           region  fatalities  \n",
       "0  Eastern Africa  7           \n",
       "1  Eastern Africa  2           \n",
       "2  Eastern Africa  0           \n",
       "3  Eastern Africa  12          \n",
       "4  Eastern Africa  3           "
      ]
     },
     "execution_count": 24,
     "metadata": {},
     "output_type": "execute_result"
    }
   ],
   "source": [
    "# Time query data by country\n",
    "%time search_query = pd.read_sql_query(\"SELECT * from all_incidents WHERE country LIKE 'Somalia';\", conn)\n",
    "search_query.head()"
   ]
  },
  {
   "cell_type": "code",
   "execution_count": 25,
   "metadata": {},
   "outputs": [
    {
     "name": "stdout",
     "output_type": "stream",
     "text": [
      "CPU times: user 266 ms, sys: 89.5 ms, total: 355 ms\n",
      "Wall time: 365 ms\n"
     ]
    }
   ],
   "source": [
    "#Optimize performace by creating an index on countries\n",
    "\n",
    "c = conn.cursor()\n",
    "%time c.execute(\"CREATE INDEX idx1 ON all_incidents(country)\")\n",
    "conn.commit()"
   ]
  },
  {
   "cell_type": "code",
   "execution_count": 27,
   "metadata": {},
   "outputs": [
    {
     "name": "stdout",
     "output_type": "stream",
     "text": [
      "CPU times: user 233 µs, sys: 23 µs, total: 256 µs\n",
      "Wall time: 247 µs\n"
     ]
    },
    {
     "data": {
      "text/html": [
       "<div>\n",
       "<style scoped>\n",
       "    .dataframe tbody tr th:only-of-type {\n",
       "        vertical-align: middle;\n",
       "    }\n",
       "\n",
       "    .dataframe tbody tr th {\n",
       "        vertical-align: top;\n",
       "    }\n",
       "\n",
       "    .dataframe thead th {\n",
       "        text-align: right;\n",
       "    }\n",
       "</style>\n",
       "<table border=\"1\" class=\"dataframe\">\n",
       "  <thead>\n",
       "    <tr style=\"text-align: right;\">\n",
       "      <th></th>\n",
       "      <th>date</th>\n",
       "      <th>data_id</th>\n",
       "      <th>event_date</th>\n",
       "      <th>year</th>\n",
       "      <th>event_type</th>\n",
       "      <th>notes</th>\n",
       "      <th>source</th>\n",
       "      <th>country</th>\n",
       "      <th>sub_event_type</th>\n",
       "      <th>region</th>\n",
       "      <th>fatalities</th>\n",
       "    </tr>\n",
       "  </thead>\n",
       "  <tbody>\n",
       "    <tr>\n",
       "      <th>0</th>\n",
       "      <td>2010-01-01 00:00:00</td>\n",
       "      <td>6304109</td>\n",
       "      <td>01 January 2010</td>\n",
       "      <td>2010</td>\n",
       "      <td>Battles</td>\n",
       "      <td>Fighters loyal to Hisb Al-Islam group reportedly killed seven people in Toorotoorow District of Lower Shabeelle Region after clashing with local militia in the town. Sources say that most of those who died in the fighting were civilians living in the area of the fighting.</td>\n",
       "      <td>Radio Gaalkacyo</td>\n",
       "      <td>Somalia</td>\n",
       "      <td>Armed clash</td>\n",
       "      <td>Eastern Africa</td>\n",
       "      <td>7</td>\n",
       "    </tr>\n",
       "    <tr>\n",
       "      <th>1</th>\n",
       "      <td>2010-01-01 00:00:00</td>\n",
       "      <td>6309080</td>\n",
       "      <td>01 January 2010</td>\n",
       "      <td>2010</td>\n",
       "      <td>Explosions/Remote violence</td>\n",
       "      <td>At least 5 people have been killed and more others have been wounded in parts of the Somali capital Mogadishu after heavy shelling landed into several areas in the capital.</td>\n",
       "      <td>Shabelle Media Network</td>\n",
       "      <td>Somalia</td>\n",
       "      <td>Shelling/artillery/missile attack</td>\n",
       "      <td>Eastern Africa</td>\n",
       "      <td>2</td>\n",
       "    </tr>\n",
       "    <tr>\n",
       "      <th>2</th>\n",
       "      <td>2010-01-02 00:00:00</td>\n",
       "      <td>5764547</td>\n",
       "      <td>02 January 2010</td>\n",
       "      <td>2010</td>\n",
       "      <td>Strategic developments</td>\n",
       "      <td>Property destruction: Al Shabaab forces in Merka set fire on three hundred sacks of maize and beans that they confiscated from a WFP owned warehouse in Merka. They claimed that the food were contaminated and not fit for human consumption. Retrieved www on 03/01/2010, http://www.hiiraan.com/news2/2010/jan/somali_extremists_scorch_food_aid.aspx O3/Al Shabaab WFP /(0/10)/ (00)/ Merka/Lower Shabelle/Somalia/ 20100104.298</td>\n",
       "      <td>Hiiraan (Somalia)</td>\n",
       "      <td>Somalia</td>\n",
       "      <td>Looting/property destruction</td>\n",
       "      <td>Eastern Africa</td>\n",
       "      <td>0</td>\n",
       "    </tr>\n",
       "    <tr>\n",
       "      <th>3</th>\n",
       "      <td>2010-01-02 00:00:00</td>\n",
       "      <td>6267562</td>\n",
       "      <td>02 January 2010</td>\n",
       "      <td>2010</td>\n",
       "      <td>Battles</td>\n",
       "      <td>Somalias Al Shabaab insurgent group has reportedly seized the control of central town of Dhusamareb, the capital of Galgadud region. Local residents report that dozens have been killed in the fighting.</td>\n",
       "      <td>Garowe Online</td>\n",
       "      <td>Somalia</td>\n",
       "      <td>Armed clash</td>\n",
       "      <td>Eastern Africa</td>\n",
       "      <td>12</td>\n",
       "    </tr>\n",
       "    <tr>\n",
       "      <th>4</th>\n",
       "      <td>2010-01-02 00:00:00</td>\n",
       "      <td>4966071</td>\n",
       "      <td>02 January 2010</td>\n",
       "      <td>2010</td>\n",
       "      <td>Battles</td>\n",
       "      <td>At least three people have died and four others wounded in a heavy fighting between Hisb Al-Islam group and pro-government forces at Ceel-gaal area. Both sides are reported to have exchanged heavy weapons, mortars and cannons prompting pastoralists in the area to vacate from their residences.</td>\n",
       "      <td>All Africa</td>\n",
       "      <td>Somalia</td>\n",
       "      <td>Armed clash</td>\n",
       "      <td>Eastern Africa</td>\n",
       "      <td>3</td>\n",
       "    </tr>\n",
       "  </tbody>\n",
       "</table>\n",
       "</div>"
      ],
      "text/plain": [
       "                  date  data_id       event_date  year  \\\n",
       "0  2010-01-01 00:00:00  6304109  01 January 2010  2010   \n",
       "1  2010-01-01 00:00:00  6309080  01 January 2010  2010   \n",
       "2  2010-01-02 00:00:00  5764547  02 January 2010  2010   \n",
       "3  2010-01-02 00:00:00  6267562  02 January 2010  2010   \n",
       "4  2010-01-02 00:00:00  4966071  02 January 2010  2010   \n",
       "\n",
       "                   event_type  \\\n",
       "0  Battles                      \n",
       "1  Explosions/Remote violence   \n",
       "2  Strategic developments       \n",
       "3  Battles                      \n",
       "4  Battles                      \n",
       "\n",
       "                                                                                                                                                                                                                                                                                                                                                                                                                                  notes  \\\n",
       "0  Fighters loyal to Hisb Al-Islam group reportedly killed seven people in Toorotoorow District of Lower Shabeelle Region after clashing with local militia in the town. Sources say that most of those who died in the fighting were civilians living in the area of the fighting.                                                                                                                                                       \n",
       "1  At least 5 people have been killed and more others have been wounded in parts of the Somali capital Mogadishu after heavy shelling landed into several areas in the capital.                                                                                                                                                                                                                                                           \n",
       "2  Property destruction: Al Shabaab forces in Merka set fire on three hundred sacks of maize and beans that they confiscated from a WFP owned warehouse in Merka. They claimed that the food were contaminated and not fit for human consumption. Retrieved www on 03/01/2010, http://www.hiiraan.com/news2/2010/jan/somali_extremists_scorch_food_aid.aspx O3/Al Shabaab WFP /(0/10)/ (00)/ Merka/Lower Shabelle/Somalia/ 20100104.298   \n",
       "3  Somalias Al Shabaab insurgent group has reportedly seized the control of central town of Dhusamareb, the capital of Galgadud region. Local residents report that dozens have been killed in the fighting.                                                                                                                                                                                                                              \n",
       "4  At least three people have died and four others wounded in a heavy fighting between Hisb Al-Islam group and pro-government forces at Ceel-gaal area. Both sides are reported to have exchanged heavy weapons, mortars and cannons prompting pastoralists in the area to vacate from their residences.                                                                                                                                  \n",
       "\n",
       "                   source  country                     sub_event_type  \\\n",
       "0  Radio Gaalkacyo         Somalia  Armed clash                         \n",
       "1  Shabelle Media Network  Somalia  Shelling/artillery/missile attack   \n",
       "2  Hiiraan (Somalia)       Somalia  Looting/property destruction        \n",
       "3  Garowe Online           Somalia  Armed clash                         \n",
       "4  All Africa              Somalia  Armed clash                         \n",
       "\n",
       "           region  fatalities  \n",
       "0  Eastern Africa  7           \n",
       "1  Eastern Africa  2           \n",
       "2  Eastern Africa  0           \n",
       "3  Eastern Africa  12          \n",
       "4  Eastern Africa  3           "
      ]
     },
     "execution_count": 27,
     "metadata": {},
     "output_type": "execute_result"
    }
   ],
   "source": [
    "%time search_query.head()"
   ]
  }
 ],
 "metadata": {
  "kernelspec": {
   "display_name": "Python 3",
   "language": "python",
   "name": "python3"
  },
  "language_info": {
   "codemirror_mode": {
    "name": "ipython",
    "version": 3
   },
   "file_extension": ".py",
   "mimetype": "text/x-python",
   "name": "python",
   "nbconvert_exporter": "python",
   "pygments_lexer": "ipython3",
   "version": "3.7.0"
  }
 },
 "nbformat": 4,
 "nbformat_minor": 2
}
