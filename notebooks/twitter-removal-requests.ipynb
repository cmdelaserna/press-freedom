{
 "cells": [
  {
   "cell_type": "markdown",
   "metadata": {},
   "source": [
    "# Aggregate data on social media removals\n",
    "- Test using Twitter report (January - June 2019) and related info from Luminate"
   ]
  },
  {
   "cell_type": "code",
   "execution_count": 1,
   "metadata": {},
   "outputs": [],
   "source": [
    "import pandas as pd\n",
    "import matplotlib as plt\n",
    "import numpy as np"
   ]
  },
  {
   "cell_type": "markdown",
   "metadata": {},
   "source": [
    "### Twitter transparency report"
   ]
  },
  {
   "cell_type": "code",
   "execution_count": 17,
   "metadata": {},
   "outputs": [
    {
     "data": {
      "text/html": [
       "<div>\n",
       "<style scoped>\n",
       "    .dataframe tbody tr th:only-of-type {\n",
       "        vertical-align: middle;\n",
       "    }\n",
       "\n",
       "    .dataframe tbody tr th {\n",
       "        vertical-align: top;\n",
       "    }\n",
       "\n",
       "    .dataframe thead th {\n",
       "        text-align: right;\n",
       "    }\n",
       "</style>\n",
       "<table border=\"1\" class=\"dataframe\">\n",
       "  <thead>\n",
       "    <tr style=\"text-align: right;\">\n",
       "      <th></th>\n",
       "      <th>TIME PERIOD</th>\n",
       "      <th>COUNTRY</th>\n",
       "      <th>REMOVAL REQUESTS (COURT ORDERS)</th>\n",
       "      <th>REMOVAL REQUESTS (GOVT AGENCY, POLICE, OTHER)</th>\n",
       "      <th>PERCENTAGE WHERE SOME CONTENT WITHHELD</th>\n",
       "      <th>ACCOUNTS SPECIFIED</th>\n",
       "      <th>ACCOUNTS WITHHELD</th>\n",
       "      <th>TWEETS WITHHELD</th>\n",
       "      <th>ACCOUNTS (TOS)</th>\n",
       "    </tr>\n",
       "  </thead>\n",
       "  <tbody>\n",
       "    <tr>\n",
       "      <th>0</th>\n",
       "      <td>January - June 2019</td>\n",
       "      <td>Afghanistan</td>\n",
       "      <td>-</td>\n",
       "      <td>-</td>\n",
       "      <td>-</td>\n",
       "      <td>-</td>\n",
       "      <td>-</td>\n",
       "      <td>-</td>\n",
       "      <td>-</td>\n",
       "    </tr>\n",
       "    <tr>\n",
       "      <th>1</th>\n",
       "      <td>January - June 2019</td>\n",
       "      <td>Albania</td>\n",
       "      <td>0</td>\n",
       "      <td>1</td>\n",
       "      <td>0%</td>\n",
       "      <td>1</td>\n",
       "      <td>0</td>\n",
       "      <td>0</td>\n",
       "      <td>1</td>\n",
       "    </tr>\n",
       "    <tr>\n",
       "      <th>2</th>\n",
       "      <td>January - June 2019</td>\n",
       "      <td>Argentina</td>\n",
       "      <td>0</td>\n",
       "      <td>1</td>\n",
       "      <td>0%</td>\n",
       "      <td>1</td>\n",
       "      <td>0</td>\n",
       "      <td>0</td>\n",
       "      <td>0</td>\n",
       "    </tr>\n",
       "    <tr>\n",
       "      <th>3</th>\n",
       "      <td>January - June 2019</td>\n",
       "      <td>Australia</td>\n",
       "      <td>1</td>\n",
       "      <td>4</td>\n",
       "      <td>0%</td>\n",
       "      <td>5</td>\n",
       "      <td>0</td>\n",
       "      <td>0</td>\n",
       "      <td>1</td>\n",
       "    </tr>\n",
       "    <tr>\n",
       "      <th>4</th>\n",
       "      <td>January - June 2019</td>\n",
       "      <td>Austria</td>\n",
       "      <td>0</td>\n",
       "      <td>3</td>\n",
       "      <td>0%</td>\n",
       "      <td>3</td>\n",
       "      <td>0</td>\n",
       "      <td>0</td>\n",
       "      <td>1</td>\n",
       "    </tr>\n",
       "  </tbody>\n",
       "</table>\n",
       "</div>"
      ],
      "text/plain": [
       "           TIME PERIOD      COUNTRY REMOVAL REQUESTS (COURT ORDERS)  \\\n",
       "0  January - June 2019  Afghanistan                               -   \n",
       "1  January - June 2019      Albania                               0   \n",
       "2  January - June 2019    Argentina                               0   \n",
       "3  January - June 2019    Australia                               1   \n",
       "4  January - June 2019      Austria                               0   \n",
       "\n",
       "  REMOVAL REQUESTS (GOVT AGENCY, POLICE, OTHER)  \\\n",
       "0                                             -   \n",
       "1                                             1   \n",
       "2                                             1   \n",
       "3                                             4   \n",
       "4                                             3   \n",
       "\n",
       "  PERCENTAGE WHERE SOME CONTENT WITHHELD ACCOUNTS SPECIFIED ACCOUNTS WITHHELD  \\\n",
       "0                                      -                  -                 -   \n",
       "1                                     0%                  1                 0   \n",
       "2                                     0%                  1                 0   \n",
       "3                                     0%                  5                 0   \n",
       "4                                     0%                  3                 0   \n",
       "\n",
       "  TWEETS WITHHELD ACCOUNTS (TOS)  \n",
       "0               -              -  \n",
       "1               0              1  \n",
       "2               0              0  \n",
       "3               0              1  \n",
       "4               0              1  "
      ]
     },
     "execution_count": 17,
     "metadata": {},
     "output_type": "execute_result"
    }
   ],
   "source": [
    "# twitter data\n",
    "twitter = pd.read_csv('../data/twitter/removal-requests-report-jan-jun-2019.csv', decimal=',')\n",
    "twitter.head()"
   ]
  },
  {
   "cell_type": "code",
   "execution_count": 18,
   "metadata": {},
   "outputs": [
    {
     "data": {
      "text/html": [
       "<div>\n",
       "<style scoped>\n",
       "    .dataframe tbody tr th:only-of-type {\n",
       "        vertical-align: middle;\n",
       "    }\n",
       "\n",
       "    .dataframe tbody tr th {\n",
       "        vertical-align: top;\n",
       "    }\n",
       "\n",
       "    .dataframe thead th {\n",
       "        text-align: right;\n",
       "    }\n",
       "</style>\n",
       "<table border=\"1\" class=\"dataframe\">\n",
       "  <thead>\n",
       "    <tr style=\"text-align: right;\">\n",
       "      <th></th>\n",
       "      <th>TIME PERIOD</th>\n",
       "      <th>COUNTRY</th>\n",
       "      <th>REMOVAL REQUESTS (COURT ORDERS)</th>\n",
       "      <th>REMOVAL REQUESTS (GOVT AGENCY, POLICE, OTHER)</th>\n",
       "      <th>PERCENTAGE WHERE SOME CONTENT WITHHELD</th>\n",
       "      <th>ACCOUNTS SPECIFIED</th>\n",
       "      <th>ACCOUNTS WITHHELD</th>\n",
       "      <th>TWEETS WITHHELD</th>\n",
       "      <th>ACCOUNTS (TOS)</th>\n",
       "    </tr>\n",
       "  </thead>\n",
       "  <tbody>\n",
       "    <tr>\n",
       "      <th>0</th>\n",
       "      <td>January - June 2019</td>\n",
       "      <td>Afghanistan</td>\n",
       "      <td>-</td>\n",
       "      <td>-</td>\n",
       "      <td>-</td>\n",
       "      <td>-</td>\n",
       "      <td>-</td>\n",
       "      <td>-</td>\n",
       "      <td>-</td>\n",
       "    </tr>\n",
       "  </tbody>\n",
       "</table>\n",
       "</div>"
      ],
      "text/plain": [
       "           TIME PERIOD      COUNTRY REMOVAL REQUESTS (COURT ORDERS)  \\\n",
       "0  January - June 2019  Afghanistan                               -   \n",
       "\n",
       "  REMOVAL REQUESTS (GOVT AGENCY, POLICE, OTHER)  \\\n",
       "0                                             -   \n",
       "\n",
       "  PERCENTAGE WHERE SOME CONTENT WITHHELD ACCOUNTS SPECIFIED ACCOUNTS WITHHELD  \\\n",
       "0                                      -                  -                 -   \n",
       "\n",
       "  TWEETS WITHHELD ACCOUNTS (TOS)  \n",
       "0               -              -  "
      ]
     },
     "execution_count": 18,
     "metadata": {},
     "output_type": "execute_result"
    }
   ],
   "source": [
    "twitter.query('COUNTRY == \"Afghanistan\"')"
   ]
  },
  {
   "cell_type": "code",
   "execution_count": 19,
   "metadata": {},
   "outputs": [
    {
     "data": {
      "text/plain": [
       "TIME PERIOD                                      object\n",
       "COUNTRY                                          object\n",
       "REMOVAL REQUESTS (COURT ORDERS)                  object\n",
       "REMOVAL REQUESTS (GOVT AGENCY, POLICE, OTHER)    object\n",
       "PERCENTAGE WHERE SOME CONTENT WITHHELD           object\n",
       "ACCOUNTS SPECIFIED                               object\n",
       "ACCOUNTS WITHHELD                                object\n",
       "TWEETS WITHHELD                                  object\n",
       "ACCOUNTS (TOS)                                   object\n",
       "dtype: object"
      ]
     },
     "execution_count": 19,
     "metadata": {},
     "output_type": "execute_result"
    }
   ],
   "source": [
    "twitter.dtypes"
   ]
  },
  {
   "cell_type": "code",
   "execution_count": 20,
   "metadata": {},
   "outputs": [],
   "source": [
    "# Function to convert columns to int32\n",
    "def data_types(dataframe, cols = [], to_type = ''):\n",
    "    for col in cols:\n",
    "        try:\n",
    "            dataframe[col] = pd.to_numeric(dataframe[col], errors='coerce')\n",
    "            dataframe[col] = dataframe[col].astype(to_type)\n",
    "        except ValueError as e:\n",
    "            print(e)\n",
    "            pass\n",
    "    \n",
    "    return dataframe.dtypes"
   ]
  },
  {
   "cell_type": "code",
   "execution_count": 21,
   "metadata": {},
   "outputs": [],
   "source": [
    "cols = ['REMOVAL REQUESTS (COURT ORDERS)', 'REMOVAL REQUESTS (GOVT AGENCY, POLICE, OTHER)', 'ACCOUNTS SPECIFIED', 'ACCOUNTS WITHHELD', 'TWEETS WITHHELD']"
   ]
  },
  {
   "cell_type": "code",
   "execution_count": 22,
   "metadata": {},
   "outputs": [
    {
     "name": "stdout",
     "output_type": "stream",
     "text": [
      "Cannot convert non-finite values (NA or inf) to integer\n",
      "Cannot convert non-finite values (NA or inf) to integer\n",
      "Cannot convert non-finite values (NA or inf) to integer\n",
      "Cannot convert non-finite values (NA or inf) to integer\n",
      "Cannot convert non-finite values (NA or inf) to integer\n"
     ]
    },
    {
     "data": {
      "text/plain": [
       "TIME PERIOD                                       object\n",
       "COUNTRY                                           object\n",
       "REMOVAL REQUESTS (COURT ORDERS)                  float64\n",
       "REMOVAL REQUESTS (GOVT AGENCY, POLICE, OTHER)    float64\n",
       "PERCENTAGE WHERE SOME CONTENT WITHHELD            object\n",
       "ACCOUNTS SPECIFIED                               float64\n",
       "ACCOUNTS WITHHELD                                float64\n",
       "TWEETS WITHHELD                                  float64\n",
       "ACCOUNTS (TOS)                                    object\n",
       "dtype: object"
      ]
     },
     "execution_count": 22,
     "metadata": {},
     "output_type": "execute_result"
    }
   ],
   "source": [
    "data_types(twitter, cols, 'int32')"
   ]
  },
  {
   "cell_type": "code",
   "execution_count": 26,
   "metadata": {},
   "outputs": [
    {
     "data": {
      "text/plain": [
       "44"
      ]
     },
     "execution_count": 26,
     "metadata": {},
     "output_type": "execute_result"
    }
   ],
   "source": [
    "len(twitter[twitter['REMOVAL REQUESTS (GOVT AGENCY, POLICE, OTHER)'] > 0])"
   ]
  },
  {
   "cell_type": "code",
   "execution_count": null,
   "metadata": {},
   "outputs": [],
   "source": []
  },
  {
   "cell_type": "code",
   "execution_count": null,
   "metadata": {},
   "outputs": [],
   "source": []
  }
 ],
 "metadata": {
  "kernelspec": {
   "display_name": "Python 3",
   "language": "python",
   "name": "python3"
  },
  "language_info": {
   "codemirror_mode": {
    "name": "ipython",
    "version": 3
   },
   "file_extension": ".py",
   "mimetype": "text/x-python",
   "name": "python",
   "nbconvert_exporter": "python",
   "pygments_lexer": "ipython3",
   "version": "3.7.0"
  }
 },
 "nbformat": 4,
 "nbformat_minor": 2
}
